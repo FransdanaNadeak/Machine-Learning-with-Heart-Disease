{
 "cells": [
  {
   "cell_type": "code",
   "execution_count": 1,
   "metadata": {},
   "outputs": [],
   "source": [
    "import pandas as pd\n",
    "import numpy as np"
   ]
  },
  {
   "cell_type": "code",
   "execution_count": 2,
   "metadata": {},
   "outputs": [],
   "source": [
    "train = pd.read_csv('train_values.csv')\n",
    "test = pd.read_csv('test_values.csv')\n",
    "label = pd.read_csv('train_labels.csv')"
   ]
  },
  {
   "cell_type": "code",
   "execution_count": 3,
   "metadata": {},
   "outputs": [
    {
     "name": "stdout",
     "output_type": "stream",
     "text": [
      "(180, 14) (90, 14)\n"
     ]
    }
   ],
   "source": [
    "print(train.shape, test.shape)"
   ]
  },
  {
   "cell_type": "code",
   "execution_count": 4,
   "metadata": {},
   "outputs": [],
   "source": [
    "data = pd.concat([train,test],0)"
   ]
  },
  {
   "cell_type": "code",
   "execution_count": 5,
   "metadata": {},
   "outputs": [
    {
     "data": {
      "text/html": [
       "<div>\n",
       "<style scoped>\n",
       "    .dataframe tbody tr th:only-of-type {\n",
       "        vertical-align: middle;\n",
       "    }\n",
       "\n",
       "    .dataframe tbody tr th {\n",
       "        vertical-align: top;\n",
       "    }\n",
       "\n",
       "    .dataframe thead th {\n",
       "        text-align: right;\n",
       "    }\n",
       "</style>\n",
       "<table border=\"1\" class=\"dataframe\">\n",
       "  <thead>\n",
       "    <tr style=\"text-align: right;\">\n",
       "      <th></th>\n",
       "      <th>patient_id</th>\n",
       "      <th>slope_of_peak_exercise_st_segment</th>\n",
       "      <th>thal</th>\n",
       "      <th>resting_blood_pressure</th>\n",
       "      <th>chest_pain_type</th>\n",
       "      <th>num_major_vessels</th>\n",
       "      <th>fasting_blood_sugar_gt_120_mg_per_dl</th>\n",
       "      <th>resting_ekg_results</th>\n",
       "      <th>serum_cholesterol_mg_per_dl</th>\n",
       "      <th>oldpeak_eq_st_depression</th>\n",
       "      <th>sex</th>\n",
       "      <th>age</th>\n",
       "      <th>max_heart_rate_achieved</th>\n",
       "      <th>exercise_induced_angina</th>\n",
       "    </tr>\n",
       "  </thead>\n",
       "  <tbody>\n",
       "    <tr>\n",
       "      <th>0</th>\n",
       "      <td>0z64un</td>\n",
       "      <td>1</td>\n",
       "      <td>normal</td>\n",
       "      <td>128</td>\n",
       "      <td>2</td>\n",
       "      <td>0</td>\n",
       "      <td>0</td>\n",
       "      <td>2</td>\n",
       "      <td>308</td>\n",
       "      <td>0.0</td>\n",
       "      <td>1</td>\n",
       "      <td>45</td>\n",
       "      <td>170</td>\n",
       "      <td>0</td>\n",
       "    </tr>\n",
       "    <tr>\n",
       "      <th>1</th>\n",
       "      <td>ryoo3j</td>\n",
       "      <td>2</td>\n",
       "      <td>normal</td>\n",
       "      <td>110</td>\n",
       "      <td>3</td>\n",
       "      <td>0</td>\n",
       "      <td>0</td>\n",
       "      <td>0</td>\n",
       "      <td>214</td>\n",
       "      <td>1.6</td>\n",
       "      <td>0</td>\n",
       "      <td>54</td>\n",
       "      <td>158</td>\n",
       "      <td>0</td>\n",
       "    </tr>\n",
       "    <tr>\n",
       "      <th>2</th>\n",
       "      <td>yt1s1x</td>\n",
       "      <td>1</td>\n",
       "      <td>normal</td>\n",
       "      <td>125</td>\n",
       "      <td>4</td>\n",
       "      <td>3</td>\n",
       "      <td>0</td>\n",
       "      <td>2</td>\n",
       "      <td>304</td>\n",
       "      <td>0.0</td>\n",
       "      <td>1</td>\n",
       "      <td>77</td>\n",
       "      <td>162</td>\n",
       "      <td>1</td>\n",
       "    </tr>\n",
       "    <tr>\n",
       "      <th>3</th>\n",
       "      <td>l2xjde</td>\n",
       "      <td>1</td>\n",
       "      <td>reversible_defect</td>\n",
       "      <td>152</td>\n",
       "      <td>4</td>\n",
       "      <td>0</td>\n",
       "      <td>0</td>\n",
       "      <td>0</td>\n",
       "      <td>223</td>\n",
       "      <td>0.0</td>\n",
       "      <td>1</td>\n",
       "      <td>40</td>\n",
       "      <td>181</td>\n",
       "      <td>0</td>\n",
       "    </tr>\n",
       "    <tr>\n",
       "      <th>4</th>\n",
       "      <td>oyt4ek</td>\n",
       "      <td>3</td>\n",
       "      <td>reversible_defect</td>\n",
       "      <td>178</td>\n",
       "      <td>1</td>\n",
       "      <td>0</td>\n",
       "      <td>0</td>\n",
       "      <td>2</td>\n",
       "      <td>270</td>\n",
       "      <td>4.2</td>\n",
       "      <td>1</td>\n",
       "      <td>59</td>\n",
       "      <td>145</td>\n",
       "      <td>0</td>\n",
       "    </tr>\n",
       "  </tbody>\n",
       "</table>\n",
       "</div>"
      ],
      "text/plain": [
       "  patient_id  slope_of_peak_exercise_st_segment               thal  \\\n",
       "0     0z64un                                  1             normal   \n",
       "1     ryoo3j                                  2             normal   \n",
       "2     yt1s1x                                  1             normal   \n",
       "3     l2xjde                                  1  reversible_defect   \n",
       "4     oyt4ek                                  3  reversible_defect   \n",
       "\n",
       "   resting_blood_pressure  chest_pain_type  num_major_vessels  \\\n",
       "0                     128                2                  0   \n",
       "1                     110                3                  0   \n",
       "2                     125                4                  3   \n",
       "3                     152                4                  0   \n",
       "4                     178                1                  0   \n",
       "\n",
       "   fasting_blood_sugar_gt_120_mg_per_dl  resting_ekg_results  \\\n",
       "0                                     0                    2   \n",
       "1                                     0                    0   \n",
       "2                                     0                    2   \n",
       "3                                     0                    0   \n",
       "4                                     0                    2   \n",
       "\n",
       "   serum_cholesterol_mg_per_dl  oldpeak_eq_st_depression  sex  age  \\\n",
       "0                          308                       0.0    1   45   \n",
       "1                          214                       1.6    0   54   \n",
       "2                          304                       0.0    1   77   \n",
       "3                          223                       0.0    1   40   \n",
       "4                          270                       4.2    1   59   \n",
       "\n",
       "   max_heart_rate_achieved  exercise_induced_angina  \n",
       "0                      170                        0  \n",
       "1                      158                        0  \n",
       "2                      162                        1  \n",
       "3                      181                        0  \n",
       "4                      145                        0  "
      ]
     },
     "execution_count": 5,
     "metadata": {},
     "output_type": "execute_result"
    }
   ],
   "source": [
    "data.head()"
   ]
  },
  {
   "cell_type": "code",
   "execution_count": 6,
   "metadata": {},
   "outputs": [
    {
     "data": {
      "text/plain": [
       "(270, 14)"
      ]
     },
     "execution_count": 6,
     "metadata": {},
     "output_type": "execute_result"
    }
   ],
   "source": [
    "data.shape"
   ]
  },
  {
   "cell_type": "code",
   "execution_count": 7,
   "metadata": {},
   "outputs": [
    {
     "data": {
      "text/plain": [
       "Index(['patient_id', 'slope_of_peak_exercise_st_segment', 'thal',\n",
       "       'resting_blood_pressure', 'chest_pain_type', 'num_major_vessels',\n",
       "       'fasting_blood_sugar_gt_120_mg_per_dl', 'resting_ekg_results',\n",
       "       'serum_cholesterol_mg_per_dl', 'oldpeak_eq_st_depression', 'sex', 'age',\n",
       "       'max_heart_rate_achieved', 'exercise_induced_angina'],\n",
       "      dtype='object')"
      ]
     },
     "execution_count": 7,
     "metadata": {},
     "output_type": "execute_result"
    }
   ],
   "source": [
    "data.columns"
   ]
  },
  {
   "cell_type": "code",
   "execution_count": 8,
   "metadata": {},
   "outputs": [],
   "source": [
    "import matplotlib.pyplot as plt"
   ]
  },
  {
   "cell_type": "code",
   "execution_count": 9,
   "metadata": {},
   "outputs": [
    {
     "data": {
      "image/png": "[encoded data removed]",
      "text/plain": [
       "<Figure size 1080x432 with 2 Axes>"
      ]
     },
     "metadata": {},
     "output_type": "display_data"
    }
   ],
   "source": [
    "# let's make boxplots to visualise outliers in the continuous variables \n",
    "# and histograms to get an idea of the distribution\n",
    "\n",
    "for var in [i for i in ['slope_of_peak_exercise_st_segment']]:\n",
    "    plt.figure(figsize=(15,6))\n",
    "    plt.subplot(1, 2, 1)\n",
    "    fig = data.boxplot(column=var)\n",
    "    fig.set_title('')\n",
    "    fig.set_ylabel(var)\n",
    "    \n",
    "    plt.subplot(1, 2, 2)\n",
    "    fig = data[var].hist(bins=20)\n",
    "    fig.set_ylabel('Number patient')\n",
    "    fig.set_xlabel(var)\n",
    "\n",
    "    plt.show()"
   ]
  },
  {
   "cell_type": "code",
   "execution_count": 10,
   "metadata": {},
   "outputs": [],
   "source": [
    "data['slope_of_peak_exercise_st_segment']=pd.Categorical(data['slope_of_peak_exercise_st_segment'])"
   ]
  },
  {
   "cell_type": "code",
   "execution_count": 11,
   "metadata": {},
   "outputs": [],
   "source": [
    "data['slope_of_peak_exercise_st_segment'] = data.apply(lambda row:str(row['slope_of_peak_exercise_st_segment']),axis=1)"
   ]
  },
  {
   "cell_type": "code",
   "execution_count": 12,
   "metadata": {},
   "outputs": [
    {
     "data": {
      "image/png": "[encoded data removed]",
      "text/plain": [
       "<Figure size 1080x432 with 2 Axes>"
      ]
     },
     "metadata": {},
     "output_type": "display_data"
    }
   ],
   "source": [
    "# let's make boxplots to visualise outliers in the continuous variables \n",
    "# and histograms to get an idea of the distribution\n",
    "\n",
    "for var in [i for i in ['chest_pain_type']]:\n",
    "    plt.figure(figsize=(15,6))\n",
    "    plt.subplot(1, 2, 1)\n",
    "    fig = data.boxplot(column=var)\n",
    "    fig.set_title('')\n",
    "    fig.set_ylabel(var)\n",
    "    \n",
    "    plt.subplot(1, 2, 2)\n",
    "    fig = data[var].hist(bins=20)\n",
    "    fig.set_ylabel('Number patient')\n",
    "    fig.set_xlabel(var)\n",
    "\n",
    "    plt.show()"
   ]
  },
  {
   "cell_type": "code",
   "execution_count": 13,
   "metadata": {},
   "outputs": [],
   "source": [
    "data['chest_pain_type'] = data.apply(lambda row:str(row['chest_pain_type']),axis=1)"
   ]
  },
  {
   "cell_type": "code",
   "execution_count": 14,
   "metadata": {},
   "outputs": [
    {
     "data": {
      "text/plain": [
       "Index(['resting_blood_pressure', 'num_major_vessels',\n",
       "       'fasting_blood_sugar_gt_120_mg_per_dl', 'resting_ekg_results',\n",
       "       'serum_cholesterol_mg_per_dl', 'oldpeak_eq_st_depression', 'sex', 'age',\n",
       "       'max_heart_rate_achieved', 'exercise_induced_angina'],\n",
       "      dtype='object')"
      ]
     },
     "execution_count": 14,
     "metadata": {},
     "output_type": "execute_result"
    }
   ],
   "source": [
    "data.select_dtypes(exclude='object').columns"
   ]
  },
  {
   "cell_type": "code",
   "execution_count": 15,
   "metadata": {},
   "outputs": [
    {
     "data": {
      "image/png": "[encoded data removed]",
      "text/plain": [
       "<Figure size 1080x432 with 2 Axes>"
      ]
     },
     "metadata": {},
     "output_type": "display_data"
    }
   ],
   "source": [
    "# let's make boxplots to visualise outliers in the continuous variables \n",
    "# and histograms to get an idea of the distribution\n",
    "\n",
    "for var in [i for i in ['num_major_vessels']]:\n",
    "    plt.figure(figsize=(15,6))\n",
    "    plt.subplot(1, 2, 1)\n",
    "    fig = data.boxplot(column=var)\n",
    "    fig.set_title('')\n",
    "    fig.set_ylabel(var)\n",
    "    \n",
    "    plt.subplot(1, 2, 2)\n",
    "    fig = data[var].hist(bins=20)\n",
    "    fig.set_ylabel('Number patient')\n",
    "    fig.set_xlabel(var)\n",
    "\n",
    "    plt.show()"
   ]
  },
  {
   "cell_type": "code",
   "execution_count": 16,
   "metadata": {},
   "outputs": [],
   "source": [
    "data['num_major_vessels'] = data.apply(lambda row:str(row['num_major_vessels']),axis=1)"
   ]
  },
  {
   "cell_type": "code",
   "execution_count": 17,
   "metadata": {},
   "outputs": [
    {
     "data": {
      "text/plain": [
       "Index(['resting_blood_pressure', 'fasting_blood_sugar_gt_120_mg_per_dl',\n",
       "       'resting_ekg_results', 'serum_cholesterol_mg_per_dl',\n",
       "       'oldpeak_eq_st_depression', 'sex', 'age', 'max_heart_rate_achieved',\n",
       "       'exercise_induced_angina'],\n",
       "      dtype='object')"
      ]
     },
     "execution_count": 17,
     "metadata": {},
     "output_type": "execute_result"
    }
   ],
   "source": [
    "data.select_dtypes(exclude='object').columns"
   ]
  },
  {
   "cell_type": "code",
   "execution_count": 18,
   "metadata": {},
   "outputs": [
    {
     "data": {
      "image/png": "[encoded data removed]",
      "text/plain": [
       "<Figure size 1080x432 with 2 Axes>"
      ]
     },
     "metadata": {},
     "output_type": "display_data"
    }
   ],
   "source": [
    "# let's make boxplots to visualise outliers in the continuous variables \n",
    "# and histograms to get an idea of the distribution\n",
    "\n",
    "for var in [i for i in ['fasting_blood_sugar_gt_120_mg_per_dl']]:\n",
    "    plt.figure(figsize=(15,6))\n",
    "    plt.subplot(1, 2, 1)\n",
    "    fig = data.boxplot(column=var)\n",
    "    fig.set_title('')\n",
    "    fig.set_ylabel(var)\n",
    "    \n",
    "    plt.subplot(1, 2, 2)\n",
    "    fig = data[var].hist(bins=20)\n",
    "    fig.set_ylabel('Number patient')\n",
    "    fig.set_xlabel(var)\n",
    "\n",
    "    plt.show()"
   ]
  },
  {
   "cell_type": "code",
   "execution_count": 19,
   "metadata": {},
   "outputs": [
    {
     "data": {
      "text/plain": [
       "fasting_blood_sugar_gt_120_mg_per_dl\n",
       "0    230\n",
       "1     40\n",
       "dtype: int64"
      ]
     },
     "execution_count": 19,
     "metadata": {},
     "output_type": "execute_result"
    }
   ],
   "source": [
    "data.groupby('fasting_blood_sugar_gt_120_mg_per_dl').size()"
   ]
  },
  {
   "cell_type": "code",
   "execution_count": 20,
   "metadata": {},
   "outputs": [],
   "source": [
    "data['fasting_blood_sugar_gt_120_mg_per_dl'] = data.apply(lambda row:str(row['fasting_blood_sugar_gt_120_mg_per_dl']),axis=1)"
   ]
  },
  {
   "cell_type": "code",
   "execution_count": 21,
   "metadata": {},
   "outputs": [
    {
     "data": {
      "text/plain": [
       "Index(['resting_blood_pressure', 'resting_ekg_results',\n",
       "       'serum_cholesterol_mg_per_dl', 'oldpeak_eq_st_depression', 'sex', 'age',\n",
       "       'max_heart_rate_achieved', 'exercise_induced_angina'],\n",
       "      dtype='object')"
      ]
     },
     "execution_count": 21,
     "metadata": {},
     "output_type": "execute_result"
    }
   ],
   "source": [
    "data.select_dtypes(exclude='object').columns"
   ]
  },
  {
   "cell_type": "code",
   "execution_count": 22,
   "metadata": {},
   "outputs": [
    {
     "data": {
      "image/png": "[encoded data removed]",
      "text/plain": [
       "<Figure size 1080x432 with 2 Axes>"
      ]
     },
     "metadata": {},
     "output_type": "display_data"
    }
   ],
   "source": [
    "# let's make boxplots to visualise outliers in the continuous variables \n",
    "# and histograms to get an idea of the distribution\n",
    "\n",
    "for var in [i for i in ['resting_ekg_results']]:\n",
    "    plt.figure(figsize=(15,6))\n",
    "    plt.subplot(1, 2, 1)\n",
    "    fig = data.boxplot(column=var)\n",
    "    fig.set_title('')\n",
    "    fig.set_ylabel(var)\n",
    "    \n",
    "    plt.subplot(1, 2, 2)\n",
    "    fig = data[var].hist(bins=20)\n",
    "    fig.set_ylabel('Number patient')\n",
    "    fig.set_xlabel(var)\n",
    "\n",
    "    plt.show()"
   ]
  },
  {
   "cell_type": "code",
   "execution_count": 23,
   "metadata": {},
   "outputs": [],
   "source": [
    "data['resting_ekg_results'] = data.apply(lambda row:str(row['resting_ekg_results']),axis=1)"
   ]
  },
  {
   "cell_type": "code",
   "execution_count": 24,
   "metadata": {},
   "outputs": [
    {
     "data": {
      "text/plain": [
       "Index(['resting_blood_pressure', 'serum_cholesterol_mg_per_dl',\n",
       "       'oldpeak_eq_st_depression', 'sex', 'age', 'max_heart_rate_achieved',\n",
       "       'exercise_induced_angina'],\n",
       "      dtype='object')"
      ]
     },
     "execution_count": 24,
     "metadata": {},
     "output_type": "execute_result"
    }
   ],
   "source": [
    "data.select_dtypes(exclude='object').columns"
   ]
  },
  {
   "cell_type": "code",
   "execution_count": 25,
   "metadata": {},
   "outputs": [
    {
     "data": {
      "image/png": "[encoded data removed]",
      "text/plain": [
       "<Figure size 1080x432 with 2 Axes>"
      ]
     },
     "metadata": {},
     "output_type": "display_data"
    }
   ],
   "source": [
    "# let's make boxplots to visualise outliers in the continuous variables \n",
    "# and histograms to get an idea of the distribution\n",
    "\n",
    "for var in [i for i in ['serum_cholesterol_mg_per_dl']]:\n",
    "    plt.figure(figsize=(15,6))\n",
    "    plt.subplot(1, 2, 1)\n",
    "    fig = data.boxplot(column=var)\n",
    "    fig.set_title('')\n",
    "    fig.set_ylabel(var)\n",
    "    \n",
    "    plt.subplot(1, 2, 2)\n",
    "    fig = data[var].hist(bins=20)\n",
    "    fig.set_ylabel('Number patient')\n",
    "    fig.set_xlabel(var)\n",
    "\n",
    "    plt.show()"
   ]
  },
  {
   "cell_type": "code",
   "execution_count": 26,
   "metadata": {},
   "outputs": [
    {
     "data": {
      "text/plain": [
       "Index(['resting_blood_pressure', 'serum_cholesterol_mg_per_dl',\n",
       "       'oldpeak_eq_st_depression', 'sex', 'age', 'max_heart_rate_achieved',\n",
       "       'exercise_induced_angina'],\n",
       "      dtype='object')"
      ]
     },
     "execution_count": 26,
     "metadata": {},
     "output_type": "execute_result"
    }
   ],
   "source": [
    "data.select_dtypes(exclude='object').columns"
   ]
  },
  {
   "cell_type": "code",
   "execution_count": 27,
   "metadata": {},
   "outputs": [
    {
     "data": {
      "image/png": "[encoded data removed]",
      "text/plain": [
       "<Figure size 1080x432 with 2 Axes>"
      ]
     },
     "metadata": {},
     "output_type": "display_data"
    }
   ],
   "source": [
    "# let's make boxplots to visualise outliers in the continuous variables \n",
    "# and histograms to get an idea of the distribution\n",
    "\n",
    "for var in [i for i in ['oldpeak_eq_st_depression']]:\n",
    "    plt.figure(figsize=(15,6))\n",
    "    plt.subplot(1, 2, 1)\n",
    "    fig = data.boxplot(column=var)\n",
    "    fig.set_title('')\n",
    "    fig.set_ylabel(var)\n",
    "    \n",
    "    plt.subplot(1, 2, 2)\n",
    "    fig = data[var].hist(bins=20)\n",
    "    fig.set_ylabel('Number patient')\n",
    "    fig.set_xlabel(var)\n",
    "\n",
    "    plt.show()"
   ]
  },
  {
   "cell_type": "code",
   "execution_count": 28,
   "metadata": {},
   "outputs": [
    {
     "data": {
      "text/plain": [
       "Index(['resting_blood_pressure', 'serum_cholesterol_mg_per_dl',\n",
       "       'oldpeak_eq_st_depression', 'sex', 'age', 'max_heart_rate_achieved',\n",
       "       'exercise_induced_angina'],\n",
       "      dtype='object')"
      ]
     },
     "execution_count": 28,
     "metadata": {},
     "output_type": "execute_result"
    }
   ],
   "source": [
    "data.select_dtypes(exclude='object').columns"
   ]
  },
  {
   "cell_type": "code",
   "execution_count": 29,
   "metadata": {},
   "outputs": [
    {
     "data": {
      "image/png": "[encoded data removed]",
      "text/plain": [
       "<Figure size 1080x432 with 2 Axes>"
      ]
     },
     "metadata": {},
     "output_type": "display_data"
    }
   ],
   "source": [
    "# let's make boxplots to visualise outliers in the continuous variables \n",
    "# and histograms to get an idea of the distribution\n",
    "\n",
    "for var in [i for i in ['sex']]:\n",
    "    plt.figure(figsize=(15,6))\n",
    "    plt.subplot(1, 2, 1)\n",
    "    fig = data.boxplot(column=var)\n",
    "    fig.set_title('')\n",
    "    fig.set_ylabel(var)\n",
    "    \n",
    "    plt.subplot(1, 2, 2)\n",
    "    fig = data[var].hist(bins=20)\n",
    "    fig.set_ylabel('Number patient')\n",
    "    fig.set_xlabel(var)\n",
    "\n",
    "    plt.show()"
   ]
  },
  {
   "cell_type": "code",
   "execution_count": 30,
   "metadata": {},
   "outputs": [],
   "source": [
    "data['sex'] = data.apply(lambda row:str(row['sex']),axis=1)"
   ]
  },
  {
   "cell_type": "code",
   "execution_count": 31,
   "metadata": {},
   "outputs": [
    {
     "data": {
      "text/plain": [
       "Index(['resting_blood_pressure', 'serum_cholesterol_mg_per_dl',\n",
       "       'oldpeak_eq_st_depression', 'age', 'max_heart_rate_achieved',\n",
       "       'exercise_induced_angina'],\n",
       "      dtype='object')"
      ]
     },
     "execution_count": 31,
     "metadata": {},
     "output_type": "execute_result"
    }
   ],
   "source": [
    "data.select_dtypes(exclude='object').columns"
   ]
  },
  {
   "cell_type": "code",
   "execution_count": 32,
   "metadata": {},
   "outputs": [
    {
     "data": {
      "image/png": "[encoded data removed]",
      "text/plain": [
       "<Figure size 1080x432 with 2 Axes>"
      ]
     },
     "metadata": {},
     "output_type": "display_data"
    }
   ],
   "source": [
    "# let's make boxplots to visualise outliers in the continuous variables \n",
    "# and histograms to get an idea of the distribution\n",
    "\n",
    "for var in [i for i in ['max_heart_rate_achieved']]:\n",
    "    plt.figure(figsize=(15,6))\n",
    "    plt.subplot(1, 2, 1)\n",
    "    fig = data.boxplot(column=var)\n",
    "    fig.set_title('')\n",
    "    fig.set_ylabel(var)\n",
    "    \n",
    "    plt.subplot(1, 2, 2)\n",
    "    fig = data[var].hist(bins=20)\n",
    "    fig.set_ylabel('Number patient')\n",
    "    fig.set_xlabel(var)\n",
    "\n",
    "    plt.show()"
   ]
  },
  {
   "cell_type": "code",
   "execution_count": 33,
   "metadata": {},
   "outputs": [
    {
     "data": {
      "text/plain": [
       "Index(['resting_blood_pressure', 'serum_cholesterol_mg_per_dl',\n",
       "       'oldpeak_eq_st_depression', 'age', 'max_heart_rate_achieved',\n",
       "       'exercise_induced_angina'],\n",
       "      dtype='object')"
      ]
     },
     "execution_count": 33,
     "metadata": {},
     "output_type": "execute_result"
    }
   ],
   "source": [
    "data.select_dtypes(exclude='object').columns"
   ]
  },
  {
   "cell_type": "code",
   "execution_count": 34,
   "metadata": {},
   "outputs": [
    {
     "data": {
      "image/png": "[encoded data removed]",
      "text/plain": [
       "<Figure size 1080x432 with 2 Axes>"
      ]
     },
     "metadata": {},
     "output_type": "display_data"
    }
   ],
   "source": [
    "# let's make boxplots to visualise outliers in the continuous variables \n",
    "# and histograms to get an idea of the distribution\n",
    "\n",
    "for var in [i for i in ['exercise_induced_angina']]:\n",
    "    plt.figure(figsize=(15,6))\n",
    "    plt.subplot(1, 2, 1)\n",
    "    fig = data.boxplot(column=var)\n",
    "    fig.set_title('')\n",
    "    fig.set_ylabel(var)\n",
    "    \n",
    "    plt.subplot(1, 2, 2)\n",
    "    fig = data[var].hist(bins=20)\n",
    "    fig.set_ylabel('Number patient')\n",
    "    fig.set_xlabel(var)\n",
    "\n",
    "    plt.show()"
   ]
  },
  {
   "cell_type": "code",
   "execution_count": 35,
   "metadata": {},
   "outputs": [],
   "source": [
    "data['exercise_induced_angina'] = data.apply(lambda row:str(row['exercise_induced_angina']),axis=1)"
   ]
  },
  {
   "cell_type": "code",
   "execution_count": 36,
   "metadata": {},
   "outputs": [],
   "source": [
    "numerik = data.select_dtypes( exclude='object')\n",
    "kategori = data.select_dtypes('object')"
   ]
  },
  {
   "cell_type": "code",
   "execution_count": 37,
   "metadata": {},
   "outputs": [],
   "source": [
    "from sklearn.preprocessing import StandardScaler\n",
    "\n",
    "def standardizer(data):\n",
    "    data_columns = data.columns  # agar nama column tidak hilang\n",
    "    data_index = data.index # agar index tidak hilang\n",
    "    normalize = StandardScaler()\n",
    "    normalize.fit(data)\n",
    "    \n",
    "    normalize_x = pd.DataFrame(normalize.transform(data))\n",
    "    normalize_x.columns = data_columns\n",
    "    normalize_x.index = data_index\n",
    "    return normalize_x, normalize\n",
    "\n",
    "x_norm, normalize = standardizer(numerik)"
   ]
  },
  {
   "cell_type": "code",
   "execution_count": 38,
   "metadata": {},
   "outputs": [
    {
     "data": {
      "text/plain": [
       "Index(['patient_id', 'slope_of_peak_exercise_st_segment', 'thal',\n",
       "       'chest_pain_type', 'num_major_vessels',\n",
       "       'fasting_blood_sugar_gt_120_mg_per_dl', 'resting_ekg_results', 'sex',\n",
       "       'exercise_induced_angina'],\n",
       "      dtype='object')"
      ]
     },
     "execution_count": 38,
     "metadata": {},
     "output_type": "execute_result"
    }
   ],
   "source": [
    "kategori.columns"
   ]
  },
  {
   "cell_type": "code",
   "execution_count": 39,
   "metadata": {},
   "outputs": [],
   "source": [
    "num_id = kategori['patient_id']\n",
    "kategori = kategori.drop('patient_id',1)"
   ]
  },
  {
   "cell_type": "code",
   "execution_count": 40,
   "metadata": {},
   "outputs": [],
   "source": [
    "kategori_dum = pd.get_dummies(kategori)"
   ]
  },
  {
   "cell_type": "code",
   "execution_count": 41,
   "metadata": {},
   "outputs": [
    {
     "data": {
      "text/plain": [
       "Index(['slope_of_peak_exercise_st_segment_1',\n",
       "       'slope_of_peak_exercise_st_segment_2',\n",
       "       'slope_of_peak_exercise_st_segment_3', 'thal_fixed_defect',\n",
       "       'thal_normal', 'thal_reversible_defect', 'chest_pain_type_1',\n",
       "       'chest_pain_type_2', 'chest_pain_type_3', 'chest_pain_type_4',\n",
       "       'num_major_vessels_0', 'num_major_vessels_1', 'num_major_vessels_2',\n",
       "       'num_major_vessels_3', 'fasting_blood_sugar_gt_120_mg_per_dl_0',\n",
       "       'fasting_blood_sugar_gt_120_mg_per_dl_1', 'resting_ekg_results_0',\n",
       "       'resting_ekg_results_1', 'resting_ekg_results_2', 'sex_0', 'sex_1',\n",
       "       'exercise_induced_angina_0', 'exercise_induced_angina_1'],\n",
       "      dtype='object')"
      ]
     },
     "execution_count": 41,
     "metadata": {},
     "output_type": "execute_result"
    }
   ],
   "source": [
    "kategori_dum.columns"
   ]
  },
  {
   "cell_type": "code",
   "execution_count": 42,
   "metadata": {},
   "outputs": [
    {
     "data": {
      "text/html": [
       "<div>\n",
       "<style scoped>\n",
       "    .dataframe tbody tr th:only-of-type {\n",
       "        vertical-align: middle;\n",
       "    }\n",
       "\n",
       "    .dataframe tbody tr th {\n",
       "        vertical-align: top;\n",
       "    }\n",
       "\n",
       "    .dataframe thead th {\n",
       "        text-align: right;\n",
       "    }\n",
       "</style>\n",
       "<table border=\"1\" class=\"dataframe\">\n",
       "  <thead>\n",
       "    <tr style=\"text-align: right;\">\n",
       "      <th></th>\n",
       "      <th>resting_blood_pressure</th>\n",
       "      <th>serum_cholesterol_mg_per_dl</th>\n",
       "      <th>oldpeak_eq_st_depression</th>\n",
       "      <th>age</th>\n",
       "      <th>max_heart_rate_achieved</th>\n",
       "    </tr>\n",
       "  </thead>\n",
       "  <tbody>\n",
       "    <tr>\n",
       "      <th>count</th>\n",
       "      <td>2.700000e+02</td>\n",
       "      <td>2.700000e+02</td>\n",
       "      <td>2.700000e+02</td>\n",
       "      <td>2.700000e+02</td>\n",
       "      <td>2.700000e+02</td>\n",
       "    </tr>\n",
       "    <tr>\n",
       "      <th>mean</th>\n",
       "      <td>5.526444e-16</td>\n",
       "      <td>-2.631640e-16</td>\n",
       "      <td>-6.579099e-17</td>\n",
       "      <td>3.552714e-16</td>\n",
       "      <td>3.618505e-17</td>\n",
       "    </tr>\n",
       "    <tr>\n",
       "      <th>std</th>\n",
       "      <td>1.001857e+00</td>\n",
       "      <td>1.001857e+00</td>\n",
       "      <td>1.001857e+00</td>\n",
       "      <td>1.001857e+00</td>\n",
       "      <td>1.001857e+00</td>\n",
       "    </tr>\n",
       "    <tr>\n",
       "      <th>min</th>\n",
       "      <td>-2.094649e+00</td>\n",
       "      <td>-2.396942e+00</td>\n",
       "      <td>-9.185652e-01</td>\n",
       "      <td>-2.797275e+00</td>\n",
       "      <td>-3.402609e+00</td>\n",
       "    </tr>\n",
       "    <tr>\n",
       "      <th>25%</th>\n",
       "      <td>-6.363095e-01</td>\n",
       "      <td>-7.105825e-01</td>\n",
       "      <td>-9.185652e-01</td>\n",
       "      <td>-7.075676e-01</td>\n",
       "      <td>-7.212705e-01</td>\n",
       "    </tr>\n",
       "    <tr>\n",
       "      <th>50%</th>\n",
       "      <td>-7.540984e-02</td>\n",
       "      <td>-9.031247e-02</td>\n",
       "      <td>-2.187060e-01</td>\n",
       "      <td>6.232461e-02</td>\n",
       "      <td>1.653012e-01</td>\n",
       "    </tr>\n",
       "    <tr>\n",
       "      <th>75%</th>\n",
       "      <td>4.854898e-01</td>\n",
       "      <td>5.881079e-01</td>\n",
       "      <td>4.811532e-01</td>\n",
       "      <td>7.222322e-01</td>\n",
       "      <td>7.058937e-01</td>\n",
       "    </tr>\n",
       "    <tr>\n",
       "      <th>max</th>\n",
       "      <td>3.850888e+00</td>\n",
       "      <td>6.093004e+00</td>\n",
       "      <td>4.505343e+00</td>\n",
       "      <td>2.481986e+00</td>\n",
       "      <td>2.262800e+00</td>\n",
       "    </tr>\n",
       "  </tbody>\n",
       "</table>\n",
       "</div>"
      ],
      "text/plain": [
       "       resting_blood_pressure  serum_cholesterol_mg_per_dl  \\\n",
       "count            2.700000e+02                 2.700000e+02   \n",
       "mean             5.526444e-16                -2.631640e-16   \n",
       "std              1.001857e+00                 1.001857e+00   \n",
       "min             -2.094649e+00                -2.396942e+00   \n",
       "25%             -6.363095e-01                -7.105825e-01   \n",
       "50%             -7.540984e-02                -9.031247e-02   \n",
       "75%              4.854898e-01                 5.881079e-01   \n",
       "max              3.850888e+00                 6.093004e+00   \n",
       "\n",
       "       oldpeak_eq_st_depression           age  max_heart_rate_achieved  \n",
       "count              2.700000e+02  2.700000e+02             2.700000e+02  \n",
       "mean              -6.579099e-17  3.552714e-16             3.618505e-17  \n",
       "std                1.001857e+00  1.001857e+00             1.001857e+00  \n",
       "min               -9.185652e-01 -2.797275e+00            -3.402609e+00  \n",
       "25%               -9.185652e-01 -7.075676e-01            -7.212705e-01  \n",
       "50%               -2.187060e-01  6.232461e-02             1.653012e-01  \n",
       "75%                4.811532e-01  7.222322e-01             7.058937e-01  \n",
       "max                4.505343e+00  2.481986e+00             2.262800e+00  "
      ]
     },
     "execution_count": 42,
     "metadata": {},
     "output_type": "execute_result"
    }
   ],
   "source": [
    "x_norm.describe()"
   ]
  },
  {
   "cell_type": "code",
   "execution_count": 43,
   "metadata": {},
   "outputs": [],
   "source": [
    "data_all = pd.concat([x_norm,kategori_dum],1)"
   ]
  },
  {
   "cell_type": "code",
   "execution_count": 44,
   "metadata": {},
   "outputs": [
    {
     "data": {
      "text/plain": [
       "(270, 28)"
      ]
     },
     "execution_count": 44,
     "metadata": {},
     "output_type": "execute_result"
    }
   ],
   "source": [
    "data_all.shape"
   ]
  },
  {
   "cell_type": "code",
   "execution_count": 45,
   "metadata": {},
   "outputs": [],
   "source": [
    "data_train = data_all[:len(train)]\n",
    "data_test = data_all[len(train):]"
   ]
  },
  {
   "cell_type": "code",
   "execution_count": 46,
   "metadata": {},
   "outputs": [
    {
     "data": {
      "text/plain": [
       "Index(['patient_id', 'heart_disease_present'], dtype='object')"
      ]
     },
     "execution_count": 46,
     "metadata": {},
     "output_type": "execute_result"
    }
   ],
   "source": [
    "label.columns"
   ]
  },
  {
   "cell_type": "code",
   "execution_count": 47,
   "metadata": {},
   "outputs": [],
   "source": [
    "label_only = label['heart_disease_present']"
   ]
  },
  {
   "cell_type": "code",
   "execution_count": 48,
   "metadata": {},
   "outputs": [
    {
     "name": "stdout",
     "output_type": "stream",
     "text": [
      "(180, 28) (180,)\n"
     ]
    }
   ],
   "source": [
    "print(data_train.shape,label_only.shape)"
   ]
  },
  {
   "cell_type": "code",
   "execution_count": 49,
   "metadata": {},
   "outputs": [],
   "source": [
    "from sklearn.model_selection import train_test_split\n",
    "\n",
    "x_train, x_test, y_train, y_test = train_test_split(data_train,label_only,test_size=0.3,random_state=123)"
   ]
  },
  {
   "cell_type": "code",
   "execution_count": 50,
   "metadata": {},
   "outputs": [],
   "source": [
    "from sklearn.tree import DecisionTreeClassifier\n",
    "dtc = DecisionTreeClassifier(random_state=123)"
   ]
  },
  {
   "cell_type": "code",
   "execution_count": 51,
   "metadata": {},
   "outputs": [
    {
     "data": {
      "text/plain": [
       "Index(['slope_of_peak_exercise_st_segment', 'thal', 'chest_pain_type',\n",
       "       'num_major_vessels', 'fasting_blood_sugar_gt_120_mg_per_dl',\n",
       "       'resting_ekg_results', 'sex', 'exercise_induced_angina'],\n",
       "      dtype='object')"
      ]
     },
     "execution_count": 51,
     "metadata": {},
     "output_type": "execute_result"
    }
   ],
   "source": [
    "kategori.columns"
   ]
  },
  {
   "cell_type": "code",
   "execution_count": 52,
   "metadata": {
    "scrolled": true
   },
   "outputs": [
    {
     "data": {
      "text/plain": [
       "Index(['resting_blood_pressure', 'serum_cholesterol_mg_per_dl',\n",
       "       'oldpeak_eq_st_depression', 'age', 'max_heart_rate_achieved'],\n",
       "      dtype='object')"
      ]
     },
     "execution_count": 52,
     "metadata": {},
     "output_type": "execute_result"
    }
   ],
   "source": [
    "numerik.columns"
   ]
  },
  {
   "cell_type": "code",
   "execution_count": 53,
   "metadata": {
    "scrolled": true
   },
   "outputs": [
    {
     "name": "stdout",
     "output_type": "stream",
     "text": [
      "(126, 28) (54, 28)\n"
     ]
    }
   ],
   "source": [
    "print(x_train.shape,x_test.shape)"
   ]
  },
  {
   "cell_type": "code",
   "execution_count": 54,
   "metadata": {},
   "outputs": [
    {
     "name": "stdout",
     "output_type": "stream",
     "text": [
      "(126, 28) (54, 28) (126,) (54,)\n"
     ]
    }
   ],
   "source": [
    "print(x_train.shape,x_test.shape,y_train.shape,y_test.shape)"
   ]
  },
  {
   "cell_type": "code",
   "execution_count": 55,
   "metadata": {},
   "outputs": [
    {
     "name": "stdout",
     "output_type": "stream",
     "text": [
      "1.0\n",
      "0.6666666666666666\n"
     ]
    }
   ],
   "source": [
    "dtc.fit(x_train,y_train)\n",
    "print(dtc.score(x_train,y_train))\n",
    "print(dtc.score(x_test,y_test))"
   ]
  },
  {
   "cell_type": "code",
   "execution_count": 56,
   "metadata": {},
   "outputs": [],
   "source": [
    "# Modelling Algorithms\n",
    "from sklearn.tree import DecisionTreeClassifier\n",
    "from sklearn.linear_model import LogisticRegression\n",
    "from sklearn.neighbors import KNeighborsClassifier\n",
    "from sklearn.naive_bayes import GaussianNB\n",
    "from sklearn.svm import SVC, LinearSVC\n",
    "from sklearn.ensemble import RandomForestClassifier , GradientBoostingClassifier\n",
    "from sklearn.ensemble import ExtraTreesClassifier"
   ]
  },
  {
   "cell_type": "code",
   "execution_count": 57,
   "metadata": {},
   "outputs": [
    {
     "data": {
      "text/plain": [
       "[sklearn.tree.tree.DecisionTreeClassifier,\n",
       " sklearn.linear_model.logistic.LogisticRegression,\n",
       " sklearn.svm.classes.SVC,\n",
       " sklearn.svm.classes.LinearSVC,\n",
       " sklearn.ensemble.forest.RandomForestClassifier,\n",
       " sklearn.ensemble.gradient_boosting.GradientBoostingClassifier,\n",
       " sklearn.ensemble.forest.ExtraTreesClassifier]"
      ]
     },
     "execution_count": 57,
     "metadata": {},
     "output_type": "execute_result"
    }
   ],
   "source": [
    "## collect all model in one list\n",
    "all_model = [DecisionTreeClassifier,\n",
    "            LogisticRegression,\n",
    "#             KNeighborsClassifier,\n",
    "#             GaussianNB,\n",
    "            SVC,\n",
    "            LinearSVC,\n",
    "            RandomForestClassifier,\n",
    "            GradientBoostingClassifier,\n",
    "            ExtraTreesClassifier]\n",
    "all_model"
   ]
  },
  {
   "cell_type": "code",
   "execution_count": 58,
   "metadata": {},
   "outputs": [
    {
     "name": "stdout",
     "output_type": "stream",
     "text": [
      "<class 'sklearn.tree.tree.DecisionTreeClassifier'> 1.0 0.6666666666666666\n",
      "<class 'sklearn.linear_model.logistic.LogisticRegression'> 0.8809523809523809 0.7592592592592593\n",
      "<class 'sklearn.svm.classes.SVC'> 0.873015873015873 0.7407407407407407\n",
      "<class 'sklearn.svm.classes.LinearSVC'> 0.8650793650793651 0.7592592592592593\n",
      "<class 'sklearn.ensemble.forest.RandomForestClassifier'> 0.9841269841269841 0.7222222222222222\n",
      "<class 'sklearn.ensemble.gradient_boosting.GradientBoostingClassifier'> 1.0 0.7037037037037037\n",
      "<class 'sklearn.ensemble.forest.ExtraTreesClassifier'> 1.0 0.7962962962962963\n"
     ]
    }
   ],
   "source": [
    "## loop for all model\n",
    "\n",
    "datatr = []\n",
    "datasc = []\n",
    "for i in all_model:\n",
    "    model = i(random_state=123)\n",
    "    model.fit(x_train,y_train)\n",
    "    datatr.append(model.score( x_train , y_train ))\n",
    "    datasc.append(model.score( x_test , y_test ))\n",
    "    print(i, model.score( x_train , y_train ) , model.score( x_test , y_test ))"
   ]
  },
  {
   "cell_type": "code",
   "execution_count": 59,
   "metadata": {},
   "outputs": [
    {
     "data": {
      "text/html": [
       "<div>\n",
       "<style scoped>\n",
       "    .dataframe tbody tr th:only-of-type {\n",
       "        vertical-align: middle;\n",
       "    }\n",
       "\n",
       "    .dataframe tbody tr th {\n",
       "        vertical-align: top;\n",
       "    }\n",
       "\n",
       "    .dataframe thead th {\n",
       "        text-align: right;\n",
       "    }\n",
       "</style>\n",
       "<table border=\"1\" class=\"dataframe\">\n",
       "  <thead>\n",
       "    <tr style=\"text-align: right;\">\n",
       "      <th></th>\n",
       "      <th>model</th>\n",
       "      <th>score training</th>\n",
       "      <th>score test</th>\n",
       "      <th>gap</th>\n",
       "    </tr>\n",
       "  </thead>\n",
       "  <tbody>\n",
       "    <tr>\n",
       "      <th>6</th>\n",
       "      <td>&lt;class 'sklearn.ensemble.forest.ExtraTreesClas...</td>\n",
       "      <td>1.000000</td>\n",
       "      <td>0.796296</td>\n",
       "      <td>0.203704</td>\n",
       "    </tr>\n",
       "    <tr>\n",
       "      <th>1</th>\n",
       "      <td>&lt;class 'sklearn.linear_model.logistic.Logistic...</td>\n",
       "      <td>0.880952</td>\n",
       "      <td>0.759259</td>\n",
       "      <td>0.121693</td>\n",
       "    </tr>\n",
       "    <tr>\n",
       "      <th>3</th>\n",
       "      <td>&lt;class 'sklearn.svm.classes.LinearSVC'&gt;</td>\n",
       "      <td>0.865079</td>\n",
       "      <td>0.759259</td>\n",
       "      <td>0.105820</td>\n",
       "    </tr>\n",
       "    <tr>\n",
       "      <th>2</th>\n",
       "      <td>&lt;class 'sklearn.svm.classes.SVC'&gt;</td>\n",
       "      <td>0.873016</td>\n",
       "      <td>0.740741</td>\n",
       "      <td>0.132275</td>\n",
       "    </tr>\n",
       "    <tr>\n",
       "      <th>4</th>\n",
       "      <td>&lt;class 'sklearn.ensemble.forest.RandomForestCl...</td>\n",
       "      <td>0.984127</td>\n",
       "      <td>0.722222</td>\n",
       "      <td>0.261905</td>\n",
       "    </tr>\n",
       "    <tr>\n",
       "      <th>5</th>\n",
       "      <td>&lt;class 'sklearn.ensemble.gradient_boosting.Gra...</td>\n",
       "      <td>1.000000</td>\n",
       "      <td>0.703704</td>\n",
       "      <td>0.296296</td>\n",
       "    </tr>\n",
       "    <tr>\n",
       "      <th>0</th>\n",
       "      <td>&lt;class 'sklearn.tree.tree.DecisionTreeClassifi...</td>\n",
       "      <td>1.000000</td>\n",
       "      <td>0.666667</td>\n",
       "      <td>0.333333</td>\n",
       "    </tr>\n",
       "  </tbody>\n",
       "</table>\n",
       "</div>"
      ],
      "text/plain": [
       "                                               model  score training  \\\n",
       "6  <class 'sklearn.ensemble.forest.ExtraTreesClas...        1.000000   \n",
       "1  <class 'sklearn.linear_model.logistic.Logistic...        0.880952   \n",
       "3            <class 'sklearn.svm.classes.LinearSVC'>        0.865079   \n",
       "2                  <class 'sklearn.svm.classes.SVC'>        0.873016   \n",
       "4  <class 'sklearn.ensemble.forest.RandomForestCl...        0.984127   \n",
       "5  <class 'sklearn.ensemble.gradient_boosting.Gra...        1.000000   \n",
       "0  <class 'sklearn.tree.tree.DecisionTreeClassifi...        1.000000   \n",
       "\n",
       "   score test       gap  \n",
       "6    0.796296  0.203704  \n",
       "1    0.759259  0.121693  \n",
       "3    0.759259  0.105820  \n",
       "2    0.740741  0.132275  \n",
       "4    0.722222  0.261905  \n",
       "5    0.703704  0.296296  \n",
       "0    0.666667  0.333333  "
      ]
     },
     "execution_count": 59,
     "metadata": {},
     "output_type": "execute_result"
    }
   ],
   "source": [
    "## compare model each other\n",
    "\n",
    "data1 = pd.DataFrame()\n",
    "data1['model'] = all_model\n",
    "data1['score training'] = datatr\n",
    "data1['score test'] = datasc\n",
    "data1['gap'] = abs(data1['score training'] - data1['score test'])\n",
    "data1.sort_values(by='score test',ascending=False)"
   ]
  },
  {
   "cell_type": "code",
   "execution_count": 60,
   "metadata": {},
   "outputs": [
    {
     "data": {
      "text/html": [
       "<div>\n",
       "<style scoped>\n",
       "    .dataframe tbody tr th:only-of-type {\n",
       "        vertical-align: middle;\n",
       "    }\n",
       "\n",
       "    .dataframe tbody tr th {\n",
       "        vertical-align: top;\n",
       "    }\n",
       "\n",
       "    .dataframe thead th {\n",
       "        text-align: right;\n",
       "    }\n",
       "</style>\n",
       "<table border=\"1\" class=\"dataframe\">\n",
       "  <thead>\n",
       "    <tr style=\"text-align: right;\">\n",
       "      <th></th>\n",
       "      <th>model</th>\n",
       "      <th>score training</th>\n",
       "      <th>score test</th>\n",
       "      <th>gap</th>\n",
       "    </tr>\n",
       "  </thead>\n",
       "  <tbody>\n",
       "    <tr>\n",
       "      <th>6</th>\n",
       "      <td>&lt;class 'sklearn.ensemble.forest.ExtraTreesClas...</td>\n",
       "      <td>1.0</td>\n",
       "      <td>0.796296</td>\n",
       "      <td>0.203704</td>\n",
       "    </tr>\n",
       "  </tbody>\n",
       "</table>\n",
       "</div>"
      ],
      "text/plain": [
       "                                               model  score training  \\\n",
       "6  <class 'sklearn.ensemble.forest.ExtraTreesClas...             1.0   \n",
       "\n",
       "   score test       gap  \n",
       "6    0.796296  0.203704  "
      ]
     },
     "execution_count": 60,
     "metadata": {},
     "output_type": "execute_result"
    }
   ],
   "source": [
    "data1[data1['score test']==data1['score test'].max()]"
   ]
  },
  {
   "cell_type": "code",
   "execution_count": 61,
   "metadata": {},
   "outputs": [
    {
     "data": {
      "text/html": [
       "<div>\n",
       "<style scoped>\n",
       "    .dataframe tbody tr th:only-of-type {\n",
       "        vertical-align: middle;\n",
       "    }\n",
       "\n",
       "    .dataframe tbody tr th {\n",
       "        vertical-align: top;\n",
       "    }\n",
       "\n",
       "    .dataframe thead th {\n",
       "        text-align: right;\n",
       "    }\n",
       "</style>\n",
       "<table border=\"1\" class=\"dataframe\">\n",
       "  <thead>\n",
       "    <tr style=\"text-align: right;\">\n",
       "      <th></th>\n",
       "      <th>model</th>\n",
       "      <th>score training</th>\n",
       "      <th>score test</th>\n",
       "      <th>gap</th>\n",
       "    </tr>\n",
       "  </thead>\n",
       "  <tbody>\n",
       "    <tr>\n",
       "      <th>3</th>\n",
       "      <td>&lt;class 'sklearn.svm.classes.LinearSVC'&gt;</td>\n",
       "      <td>0.865079</td>\n",
       "      <td>0.759259</td>\n",
       "      <td>0.10582</td>\n",
       "    </tr>\n",
       "  </tbody>\n",
       "</table>\n",
       "</div>"
      ],
      "text/plain": [
       "                                     model  score training  score test  \\\n",
       "3  <class 'sklearn.svm.classes.LinearSVC'>        0.865079    0.759259   \n",
       "\n",
       "       gap  \n",
       "3  0.10582  "
      ]
     },
     "execution_count": 61,
     "metadata": {},
     "output_type": "execute_result"
    }
   ],
   "source": [
    "data1[data1['gap']==data1['gap'].min()]"
   ]
  },
  {
   "cell_type": "code",
   "execution_count": 62,
   "metadata": {},
   "outputs": [
    {
     "data": {
      "text/plain": [
       "patient_id                              0\n",
       "slope_of_peak_exercise_st_segment       0\n",
       "thal                                    0\n",
       "resting_blood_pressure                  0\n",
       "chest_pain_type                         0\n",
       "num_major_vessels                       0\n",
       "fasting_blood_sugar_gt_120_mg_per_dl    0\n",
       "resting_ekg_results                     0\n",
       "serum_cholesterol_mg_per_dl             0\n",
       "oldpeak_eq_st_depression                0\n",
       "sex                                     0\n",
       "age                                     0\n",
       "max_heart_rate_achieved                 0\n",
       "exercise_induced_angina                 0\n",
       "dtype: int64"
      ]
     },
     "execution_count": 62,
     "metadata": {},
     "output_type": "execute_result"
    }
   ],
   "source": [
    "train.isnull().sum()"
   ]
  },
  {
   "cell_type": "code",
   "execution_count": 63,
   "metadata": {},
   "outputs": [],
   "source": [
    "## loop for all model\n",
    "\n",
    "ce = [0.1,1,10,100,1000]\n",
    "ce = np.arange(0.01,1,0.01)\n",
    "datasc,datatr = [],[]\n",
    "for i in ce:\n",
    "    model = SVC(random_state=123,C=i)\n",
    "    model.fit(x_train,y_train)\n",
    "    datatr.append(model.score( x_train , y_train ))\n",
    "    datasc.append(model.score( x_test , y_test ))\n",
    "#     print(i, model.score( x_train , y_train ) , model.score( x_test , y_test ))"
   ]
  },
  {
   "cell_type": "code",
   "execution_count": 64,
   "metadata": {},
   "outputs": [
    {
     "data": {
      "text/html": [
       "<div>\n",
       "<style scoped>\n",
       "    .dataframe tbody tr th:only-of-type {\n",
       "        vertical-align: middle;\n",
       "    }\n",
       "\n",
       "    .dataframe tbody tr th {\n",
       "        vertical-align: top;\n",
       "    }\n",
       "\n",
       "    .dataframe thead th {\n",
       "        text-align: right;\n",
       "    }\n",
       "</style>\n",
       "<table border=\"1\" class=\"dataframe\">\n",
       "  <thead>\n",
       "    <tr style=\"text-align: right;\">\n",
       "      <th></th>\n",
       "      <th>C</th>\n",
       "      <th>score training</th>\n",
       "      <th>score test</th>\n",
       "      <th>gap</th>\n",
       "    </tr>\n",
       "  </thead>\n",
       "  <tbody>\n",
       "    <tr>\n",
       "      <th>11</th>\n",
       "      <td>0.12</td>\n",
       "      <td>0.841270</td>\n",
       "      <td>0.870370</td>\n",
       "      <td>0.029101</td>\n",
       "    </tr>\n",
       "    <tr>\n",
       "      <th>12</th>\n",
       "      <td>0.13</td>\n",
       "      <td>0.849206</td>\n",
       "      <td>0.851852</td>\n",
       "      <td>0.002646</td>\n",
       "    </tr>\n",
       "    <tr>\n",
       "      <th>13</th>\n",
       "      <td>0.14</td>\n",
       "      <td>0.865079</td>\n",
       "      <td>0.851852</td>\n",
       "      <td>0.013228</td>\n",
       "    </tr>\n",
       "    <tr>\n",
       "      <th>14</th>\n",
       "      <td>0.15</td>\n",
       "      <td>0.865079</td>\n",
       "      <td>0.833333</td>\n",
       "      <td>0.031746</td>\n",
       "    </tr>\n",
       "    <tr>\n",
       "      <th>17</th>\n",
       "      <td>0.18</td>\n",
       "      <td>0.857143</td>\n",
       "      <td>0.814815</td>\n",
       "      <td>0.042328</td>\n",
       "    </tr>\n",
       "  </tbody>\n",
       "</table>\n",
       "</div>"
      ],
      "text/plain": [
       "       C  score training  score test       gap\n",
       "11  0.12        0.841270    0.870370  0.029101\n",
       "12  0.13        0.849206    0.851852  0.002646\n",
       "13  0.14        0.865079    0.851852  0.013228\n",
       "14  0.15        0.865079    0.833333  0.031746\n",
       "17  0.18        0.857143    0.814815  0.042328"
      ]
     },
     "execution_count": 64,
     "metadata": {},
     "output_type": "execute_result"
    }
   ],
   "source": [
    "## compare model each other\n",
    "\n",
    "data1 = pd.DataFrame()\n",
    "data1['C'] = ce\n",
    "data1['score training'] = datatr\n",
    "data1['score test'] = datasc\n",
    "data1['gap'] = abs(data1['score training'] - data1['score test'])\n",
    "data1.sort_values(by='score test',ascending=False).head()"
   ]
  },
  {
   "cell_type": "code",
   "execution_count": 65,
   "metadata": {},
   "outputs": [
    {
     "name": "stdout",
     "output_type": "stream",
     "text": [
      "0.99 0.8650793650793651 0.7777777777777778\n"
     ]
    }
   ],
   "source": [
    "model = SVC(random_state=123,C=0.12,kernel='linear')\n",
    "model.fit(x_train,y_train)\n",
    "model.score( x_train , y_train)\n",
    "print(i, model.score( x_train , y_train ) , model.score( x_test , y_test ))"
   ]
  },
  {
   "cell_type": "code",
   "execution_count": 66,
   "metadata": {},
   "outputs": [
    {
     "name": "stdout",
     "output_type": "stream",
     "text": [
      "0.99 0.5396825396825397 0.5925925925925926\n"
     ]
    }
   ],
   "source": [
    "model = SVC(random_state=123,C=0.12,kernel='poly')\n",
    "model.fit(x_train,y_train)\n",
    "model.score( x_train , y_train)\n",
    "print(i, model.score( x_train , y_train ) , model.score( x_test , y_test ))"
   ]
  },
  {
   "cell_type": "code",
   "execution_count": 67,
   "metadata": {},
   "outputs": [
    {
     "name": "stdout",
     "output_type": "stream",
     "text": [
      "0.99 0.8412698412698413 0.8703703703703703\n"
     ]
    }
   ],
   "source": [
    "model = SVC(random_state=123,C=0.12,kernel='rbf')\n",
    "model.fit(x_train,y_train)\n",
    "model.score( x_train , y_train)\n",
    "print(i, model.score( x_train , y_train ) , model.score( x_test , y_test ))"
   ]
  },
  {
   "cell_type": "markdown",
   "metadata": {},
   "source": [
    "# ----------------------------------------------------------------------------------------------------------"
   ]
  },
  {
   "cell_type": "code",
   "execution_count": 91,
   "metadata": {},
   "outputs": [],
   "source": [
    "# for preprocessing the data\n",
    "from sklearn.preprocessing import StandardScaler\n",
    "\n",
    "# the model\n",
    "from sklearn.linear_model import LogisticRegression\n",
    "\n",
    "# for combining the preprocess with model training\n",
    "from sklearn.pipeline import Pipeline\n",
    "\n",
    "# for optimizing parameters of the pipeline\n",
    "from sklearn.model_selection import GridSearchCV\n",
    "\n",
    "from sklearn.metrics import log_loss"
   ]
  },
  {
   "cell_type": "code",
   "execution_count": 92,
   "metadata": {},
   "outputs": [
    {
     "data": {
      "text/plain": [
       "0.39273088963618535"
      ]
     },
     "execution_count": 92,
     "metadata": {},
     "output_type": "execute_result"
    }
   ],
   "source": [
    "pipe = Pipeline(steps=[('supportvc', SVC(random_state=123,probability = True))])\n",
    "param_grid = {'supportvc__C': [0.12,0.12,0.12]}\n",
    "gs = GridSearchCV(estimator=pipe, \n",
    "                  param_grid=param_grid, \n",
    "                  cv=3)\n",
    "gs.fit(x_train, y_train)\n",
    "in_sample_preds = gs.predict_proba(x_train)\n",
    "log_loss(y_train, in_sample_preds)"
   ]
  },
  {
   "cell_type": "code",
   "execution_count": 84,
   "metadata": {},
   "outputs": [],
   "source": [
    "angka = gs.predict_proba(data_test)\n",
    "prediksi = pd.DataFrame()\n",
    "prediksi['patient_id'] = data['patient_id'][len(train):]\n",
    "prediksi['heart_disease_present'] = angka[:,1]\n",
    "prediksi = prediksi[['patient_id','heart_disease_present']]"
   ]
  },
  {
   "cell_type": "code",
   "execution_count": null,
   "metadata": {},
   "outputs": [],
   "source": []
  },
  {
   "cell_type": "code",
   "execution_count": null,
   "metadata": {},
   "outputs": [],
   "source": []
  },
  {
   "cell_type": "code",
   "execution_count": null,
   "metadata": {},
   "outputs": [],
   "source": []
  },
  {
   "cell_type": "code",
   "execution_count": null,
   "metadata": {},
   "outputs": [],
   "source": []
  },
  {
   "cell_type": "code",
   "execution_count": null,
   "metadata": {},
   "outputs": [],
   "source": []
  },
  {
   "cell_type": "code",
   "execution_count": 262,
   "metadata": {},
   "outputs": [],
   "source": [
    "## loop for all model\n",
    "\n",
    "ce = [10000]\n",
    "# ce = np.arange(0.3,5,0.01)\n",
    "max_iter = np.arange(200,600,50)\n",
    "cek, keren = [],[]\n",
    "datasc,datatr = [],[]\n",
    "for i in max_iter:\n",
    "    for j in ce:\n",
    "        cek.append(j)\n",
    "        keren.append(i)\n",
    "        model = LogisticRegression(random_state=123,C=j,max_iter=i)\n",
    "        model.fit(x_train,y_train)\n",
    "        datatr.append(model.score( x_train , y_train ))\n",
    "        datasc.append(model.score( x_test , y_test ))\n",
    "#         print(i, model.score( x_train , y_train ) , model.score( x_test , y_test ))"
   ]
  },
  {
   "cell_type": "code",
   "execution_count": 263,
   "metadata": {},
   "outputs": [
    {
     "data": {
      "text/html": [
       "<div>\n",
       "<style scoped>\n",
       "    .dataframe tbody tr th:only-of-type {\n",
       "        vertical-align: middle;\n",
       "    }\n",
       "\n",
       "    .dataframe tbody tr th {\n",
       "        vertical-align: top;\n",
       "    }\n",
       "\n",
       "    .dataframe thead th {\n",
       "        text-align: right;\n",
       "    }\n",
       "</style>\n",
       "<table border=\"1\" class=\"dataframe\">\n",
       "  <thead>\n",
       "    <tr style=\"text-align: right;\">\n",
       "      <th></th>\n",
       "      <th>C</th>\n",
       "      <th>Kernel</th>\n",
       "      <th>score training</th>\n",
       "      <th>score test</th>\n",
       "      <th>gap</th>\n",
       "    </tr>\n",
       "  </thead>\n",
       "  <tbody>\n",
       "    <tr>\n",
       "      <th>0</th>\n",
       "      <td>10000</td>\n",
       "      <td>200</td>\n",
       "      <td>0.873016</td>\n",
       "      <td>0.740741</td>\n",
       "      <td>0.132275</td>\n",
       "    </tr>\n",
       "    <tr>\n",
       "      <th>1</th>\n",
       "      <td>10000</td>\n",
       "      <td>250</td>\n",
       "      <td>0.873016</td>\n",
       "      <td>0.740741</td>\n",
       "      <td>0.132275</td>\n",
       "    </tr>\n",
       "    <tr>\n",
       "      <th>2</th>\n",
       "      <td>10000</td>\n",
       "      <td>300</td>\n",
       "      <td>0.873016</td>\n",
       "      <td>0.740741</td>\n",
       "      <td>0.132275</td>\n",
       "    </tr>\n",
       "    <tr>\n",
       "      <th>3</th>\n",
       "      <td>10000</td>\n",
       "      <td>350</td>\n",
       "      <td>0.873016</td>\n",
       "      <td>0.740741</td>\n",
       "      <td>0.132275</td>\n",
       "    </tr>\n",
       "    <tr>\n",
       "      <th>4</th>\n",
       "      <td>10000</td>\n",
       "      <td>400</td>\n",
       "      <td>0.873016</td>\n",
       "      <td>0.740741</td>\n",
       "      <td>0.132275</td>\n",
       "    </tr>\n",
       "  </tbody>\n",
       "</table>\n",
       "</div>"
      ],
      "text/plain": [
       "       C  Kernel  score training  score test       gap\n",
       "0  10000     200        0.873016    0.740741  0.132275\n",
       "1  10000     250        0.873016    0.740741  0.132275\n",
       "2  10000     300        0.873016    0.740741  0.132275\n",
       "3  10000     350        0.873016    0.740741  0.132275\n",
       "4  10000     400        0.873016    0.740741  0.132275"
      ]
     },
     "execution_count": 263,
     "metadata": {},
     "output_type": "execute_result"
    }
   ],
   "source": [
    "## compare model each other\n",
    "\n",
    "data1 = pd.DataFrame()\n",
    "data1['C'] = cek\n",
    "data1['Kernel'] = keren\n",
    "data1['score training'] = datatr\n",
    "data1['score test'] = datasc\n",
    "data1['gap'] = abs(data1['score training'] - data1['score test'])\n",
    "data1.sort_values(by='score test',ascending=False).head()"
   ]
  },
  {
   "cell_type": "code",
   "execution_count": 256,
   "metadata": {},
   "outputs": [
    {
     "data": {
      "text/plain": [
       "0.302070543455352"
      ]
     },
     "execution_count": 256,
     "metadata": {},
     "output_type": "execute_result"
    }
   ],
   "source": [
    "def standardizer(data):\n",
    "    data_columns = data.columns  # agar nama column tidak hilang\n",
    "    data_index = data.index # agar index tidak hilang\n",
    "    normalize = StandardScaler()\n",
    "    normalize.fit(data)\n",
    "    \n",
    "    normalize_x = pd.DataFrame(normalize.transform(data))\n",
    "    normalize_x.columns = data_columns\n",
    "    normalize_x.index = data_index\n",
    "    return normalize_x, normalize\n",
    "\n",
    "train = pd.read_csv('train_values.csv')\n",
    "test = pd.read_csv('test_values.csv')\n",
    "label = pd.read_csv('train_labels.csv')\n",
    "data = pd.concat([train,test],0)\n",
    "data['slope_of_peak_exercise_st_segment'] = data.apply(lambda row:str(row['slope_of_peak_exercise_st_segment']),axis=1)\n",
    "data['chest_pain_type'] = data.apply(lambda row:str(row['chest_pain_type']),axis=1)\n",
    "data['num_major_vessels'] = data.apply(lambda row:str(row['num_major_vessels']),axis=1)\n",
    "kategori_natural = data[['fasting_blood_sugar_gt_120_mg_per_dl','resting_ekg_results',\n",
    "'sex','exercise_induced_angina']]\n",
    "numerik = data.select_dtypes( exclude='object')\n",
    "numerik = numerik.drop(kategori_natural.columns,1)\n",
    "kategori = data.select_dtypes('object')\n",
    "from sklearn.preprocessing import StandardScaler\n",
    "\n",
    "\n",
    "\n",
    "x_norm, normalize = standardizer(numerik)\n",
    "num_id = kategori['patient_id']\n",
    "kategori = kategori.drop('patient_id',1)\n",
    "kategori_dum = pd.get_dummies(kategori)\n",
    "data_all = pd.concat([x_norm,kategori_dum,kategori_natural],1)\n",
    "data_all = data_all[data_all['resting_blood_pressure']<=165]\n",
    "data_train = data_all[:len(train)]\n",
    "data_test = data_all[len(train):]\n",
    "label_only = label['heart_disease_present']\n",
    "from sklearn.model_selection import train_test_split\n",
    "\n",
    "x_train, x_test, y_train, y_test = train_test_split(data_train,label_only,test_size=0.3,random_state=123)\n",
    "# for preprocessing the data\n",
    "from sklearn.preprocessing import StandardScaler\n",
    "\n",
    "# the model\n",
    "from sklearn.linear_model import LogisticRegression\n",
    "\n",
    "# for combining the preprocess with model training\n",
    "from sklearn.pipeline import Pipeline\n",
    "\n",
    "# for optimizing parameters of the pipeline\n",
    "from sklearn.model_selection import GridSearchCV\n",
    "\n",
    "from sklearn.metrics import log_loss\n",
    "pipe = Pipeline(steps=[('model', LogisticRegression(random_state=123,penalty='l1'))])\n",
    "param_grid = {'model__C': [10000]}\n",
    "gs = GridSearchCV(estimator=pipe, \n",
    "                  param_grid=param_grid, \n",
    "                  cv=3)\n",
    "gs.fit(x_train, y_train)\n",
    "in_sample_preds = gs.predict_proba(x_train)\n",
    "log_loss(y_train, in_sample_preds)"
   ]
  },
  {
   "cell_type": "code",
   "execution_count": 254,
   "metadata": {},
   "outputs": [],
   "source": [
    "angka = gs.predict_proba(data_test)\n",
    "prediksi = pd.DataFrame()\n",
    "prediksi['patient_id'] = data['patient_id'][len(train):]\n",
    "prediksi['heart_disease_present'] = angka[:,1]\n",
    "prediksi = prediksi[['patient_id','heart_disease_present']]"
   ]
  },
  {
   "cell_type": "code",
   "execution_count": 257,
   "metadata": {},
   "outputs": [],
   "source": [
    "prediksi.to_csv('logist 030207 10000 l1.csv')"
   ]
  },
  {
   "cell_type": "code",
   "execution_count": 405,
   "metadata": {},
   "outputs": [
    {
     "data": {
      "text/plain": [
       "583.3333333333334"
      ]
     },
     "execution_count": 405,
     "metadata": {},
     "output_type": "execute_result"
    }
   ],
   "source": [
    "1000*7/12.0"
   ]
  },
  {
   "cell_type": "code",
   "execution_count": null,
   "metadata": {},
   "outputs": [],
   "source": []
  },
  {
   "cell_type": "code",
   "execution_count": 167,
   "metadata": {},
   "outputs": [
    {
     "data": {
      "text/plain": [
       "Index(['resting_blood_pressure', 'serum_cholesterol_mg_per_dl',\n",
       "       'oldpeak_eq_st_depression', 'age', 'max_heart_rate_achieved'],\n",
       "      dtype='object')"
      ]
     },
     "execution_count": 167,
     "metadata": {},
     "output_type": "execute_result"
    }
   ],
   "source": [
    "numerik.columns"
   ]
  },
  {
   "cell_type": "code",
   "execution_count": 325,
   "metadata": {},
   "outputs": [
    {
     "data": {
      "image/png": "[encoded data removed]",
      "text/plain": [
       "<Figure size 1080x432 with 2 Axes>"
      ]
     },
     "metadata": {},
     "output_type": "display_data"
    }
   ],
   "source": [
    "# let's make boxplots to visualise outliers in the continuous variables \n",
    "# and histograms to get an idea of the distribution\n",
    "\n",
    "for var in [i for i in ['resting_blood_pressure']]:\n",
    "    plt.figure(figsize=(15,6))\n",
    "    plt.subplot(1, 2, 1)\n",
    "    fig = data.boxplot(column=var)\n",
    "    fig.set_title('')\n",
    "    fig.set_ylabel(var)\n",
    "    \n",
    "    plt.subplot(1, 2, 2)\n",
    "    fig = data[var].hist(bins=20)\n",
    "    fig.set_ylabel('Number patient')\n",
    "    fig.set_xlabel(var)\n",
    "\n",
    "    plt.show()"
   ]
  },
  {
   "cell_type": "code",
   "execution_count": 329,
   "metadata": {},
   "outputs": [
    {
     "data": {
      "text/plain": [
       "<matplotlib.axes._subplots.AxesSubplot at 0xd7ff60>"
      ]
     },
     "execution_count": 329,
     "metadata": {},
     "output_type": "execute_result"
    },
    {
     "data": {
      "image/png": "[encoded data removed]",
      "text/plain": [
       "<Figure size 432x288 with 1 Axes>"
      ]
     },
     "metadata": {},
     "output_type": "display_data"
    }
   ],
   "source": [
    "np.log1p(data['resting_blood_pressure']).hist()"
   ]
  },
  {
   "cell_type": "code",
   "execution_count": 335,
   "metadata": {},
   "outputs": [],
   "source": [
    "xx = [float(np.exp(i)) for i in range(1,100)]"
   ]
  },
  {
   "cell_type": "code",
   "execution_count": 355,
   "metadata": {},
   "outputs": [],
   "source": [
    "xx = [float(i) for i in range(1,100)]"
   ]
  },
  {
   "cell_type": "code",
   "execution_count": 378,
   "metadata": {},
   "outputs": [
    {
     "data": {
      "text/plain": [
       "array([[<matplotlib.axes._subplots.AxesSubplot object at 0x000000000992D0B8>]],\n",
       "      dtype=object)"
      ]
     },
     "execution_count": 378,
     "metadata": {},
     "output_type": "execute_result"
    },
    {
     "data": {
      "image/png": "[encoded data removed]",
      "text/plain": [
       "<Figure size 432x288 with 1 Axes>"
      ]
     },
     "metadata": {},
     "output_type": "display_data"
    }
   ],
   "source": [
    "np.log1p(pd.DataFrame({'X':xx})).hist()"
   ]
  },
  {
   "cell_type": "code",
   "execution_count": 390,
   "metadata": {},
   "outputs": [
    {
     "data": {
      "text/plain": [
       "array([[<matplotlib.axes._subplots.AxesSubplot object at 0x0000000009F068D0>]],\n",
       "      dtype=object)"
      ]
     },
     "execution_count": 390,
     "metadata": {},
     "output_type": "execute_result"
    },
    {
     "data": {
      "image/png": "[encoded data removed]",
      "text/plain": [
       "<Figure size 432x288 with 1 Axes>"
      ]
     },
     "metadata": {},
     "output_type": "display_data"
    }
   ],
   "source": [
    "np.log1p(np.exp(pd.DataFrame({'X':xx}))).hist()"
   ]
  },
  {
   "cell_type": "code",
   "execution_count": 379,
   "metadata": {},
   "outputs": [
    {
     "data": {
      "text/plain": [
       "array([[<matplotlib.axes._subplots.AxesSubplot object at 0x0000000009917780>]],\n",
       "      dtype=object)"
      ]
     },
     "execution_count": 379,
     "metadata": {},
     "output_type": "execute_result"
    },
    {
     "data": {
      "image/png": "[encoded data removed]",
      "text/plain": [
       "<Figure size 432x288 with 1 Axes>"
      ]
     },
     "metadata": {},
     "output_type": "display_data"
    }
   ],
   "source": [
    "(pd.DataFrame({'X':xx})).hist()"
   ]
  },
  {
   "cell_type": "code",
   "execution_count": 400,
   "metadata": {},
   "outputs": [
    {
     "name": "stderr",
     "output_type": "stream",
     "text": [
      "C:\\Users\\Sugianto\\AppData\\Local\\conda\\conda\\envs\\py36\\lib\\site-packages\\ipykernel_launcher.py:1: RuntimeWarning: divide by zero encountered in double_scalars\n",
      "  \"\"\"Entry point for launching an IPython kernel.\n"
     ]
    }
   ],
   "source": [
    "loggg = [1/(np.log1p(i)) for i in range(100)]"
   ]
  },
  {
   "cell_type": "code",
   "execution_count": 401,
   "metadata": {},
   "outputs": [
    {
     "data": {
      "text/plain": [
       "[<matplotlib.lines.Line2D at 0xc5a30f0>]"
      ]
     },
     "execution_count": 401,
     "metadata": {},
     "output_type": "execute_result"
    },
    {
     "data": {
      "image/png": "[encoded data removed]",
      "text/plain": [
       "<Figure size 432x288 with 1 Axes>"
      ]
     },
     "metadata": {},
     "output_type": "display_data"
    }
   ],
   "source": [
    "plt.plot(loggg)"
   ]
  },
  {
   "cell_type": "code",
   "execution_count": null,
   "metadata": {},
   "outputs": [],
   "source": []
  },
  {
   "cell_type": "code",
   "execution_count": 368,
   "metadata": {},
   "outputs": [],
   "source": [
    "from sklearn.linear_model import LinearRegression"
   ]
  },
  {
   "cell_type": "code",
   "execution_count": 376,
   "metadata": {},
   "outputs": [],
   "source": [
    "all = pd.DataFrame({'X':range(100),'Y':[float(i) for i in range(100)]})"
   ]
  },
  {
   "cell_type": "code",
   "execution_count": null,
   "metadata": {},
   "outputs": [],
   "source": []
  },
  {
   "cell_type": "code",
   "execution_count": null,
   "metadata": {},
   "outputs": [],
   "source": []
  },
  {
   "cell_type": "code",
   "execution_count": null,
   "metadata": {},
   "outputs": [],
   "source": []
  },
  {
   "cell_type": "code",
   "execution_count": 248,
   "metadata": {},
   "outputs": [],
   "source": [
    "def standardizer(data):\n",
    "    data_columns = data.columns  # agar nama column tidak hilang\n",
    "    data_index = data.index # agar index tidak hilang\n",
    "    normalize = StandardScaler()\n",
    "    normalize.fit(data)\n",
    "    \n",
    "    normalize_x = pd.DataFrame(normalize.transform(data))\n",
    "    normalize_x.columns = data_columns\n",
    "    normalize_x.index = data_index\n",
    "    return normalize_x, normalize\n",
    "\n",
    "train = pd.read_csv('train_values.csv')\n",
    "test = pd.read_csv('test_values.csv')\n",
    "label = pd.read_csv('train_labels.csv')\n",
    "data = pd.concat([train,test],0)\n",
    "data['slope_of_peak_exercise_st_segment'] = data.apply(lambda row:str(row['slope_of_peak_exercise_st_segment']),axis=1)\n",
    "data['chest_pain_type'] = data.apply(lambda row:str(row['chest_pain_type']),axis=1)\n",
    "data['num_major_vessels'] = data.apply(lambda row:str(row['num_major_vessels']),axis=1)\n",
    "kategori_natural = data[['fasting_blood_sugar_gt_120_mg_per_dl','resting_ekg_results',\n",
    "'sex','exercise_induced_angina']]\n",
    "numerik = data.select_dtypes( exclude='object')\n",
    "numerik = numerik.drop(kategori_natural.columns,1)\n",
    "kategori = data.select_dtypes('object')\n",
    "from sklearn.preprocessing import StandardScaler\n",
    "\n",
    "\n",
    "\n",
    "x_norm, normalize = standardizer(numerik)\n",
    "num_id = kategori['patient_id']\n",
    "kategori = kategori.drop('patient_id',1)\n",
    "kategori_dum = pd.get_dummies(kategori)\n",
    "data_all = pd.concat([x_norm,kategori_dum,kategori_natural],1)\n",
    "\n",
    "logg,n = [],[]\n",
    "# daftar = np.arange(165,200,1)\n",
    "ce = [100,200,300,1000,3000,10000]\n",
    "# ce = np.arange(20,100,1)\n",
    "# max_iter = np.arange(200,600,50)\n",
    "cek, keren = [],[]\n",
    "for i in ce:\n",
    "#     data_all = data_all[data_all['resting_blood_pressure']<=i]\n",
    "#     data_all = data_all[data_all['oldpeak_eq_st_depression']<=i]\n",
    "    data_train = data_all[:len(train)]\n",
    "    data_test = data_all[len(train):]\n",
    "    label_only = label['heart_disease_present']\n",
    "    from sklearn.model_selection import train_test_split\n",
    "\n",
    "    x_train, x_test, y_train, y_test = train_test_split(data_train,label_only,test_size=0.3,random_state=123)\n",
    "    # for preprocessing the data\n",
    "    from sklearn.preprocessing import StandardScaler\n",
    "\n",
    "    # the model\n",
    "    from sklearn.linear_model import LogisticRegression\n",
    "\n",
    "    # for combining the preprocess with model training\n",
    "    from sklearn.pipeline import Pipeline\n",
    "\n",
    "    # for optimizing parameters of the pipeline\n",
    "    from sklearn.model_selection import GridSearchCV\n",
    "\n",
    "    from sklearn.metrics import log_loss\n",
    "    pipe = Pipeline(steps=[('model', LogisticRegression(random_state=123,penalty='l2'))])\n",
    "    param_grid = {'model__C': [i]}\n",
    "    gs = GridSearchCV(estimator=pipe, \n",
    "                  param_grid=param_grid, \n",
    "                  cv=3)\n",
    "    gs.fit(x_train, y_train)\n",
    "    in_sample_preds = gs.predict_proba(x_train)\n",
    "    logg.append(log_loss(y_train, in_sample_preds))\n",
    "    n.append(i)"
   ]
  },
  {
   "cell_type": "code",
   "execution_count": 249,
   "metadata": {},
   "outputs": [
    {
     "data": {
      "text/html": [
       "<div>\n",
       "<style scoped>\n",
       "    .dataframe tbody tr th:only-of-type {\n",
       "        vertical-align: middle;\n",
       "    }\n",
       "\n",
       "    .dataframe tbody tr th {\n",
       "        vertical-align: top;\n",
       "    }\n",
       "\n",
       "    .dataframe thead th {\n",
       "        text-align: right;\n",
       "    }\n",
       "</style>\n",
       "<table border=\"1\" class=\"dataframe\">\n",
       "  <thead>\n",
       "    <tr style=\"text-align: right;\">\n",
       "      <th></th>\n",
       "      <th>n</th>\n",
       "      <th>logloss</th>\n",
       "    </tr>\n",
       "  </thead>\n",
       "  <tbody>\n",
       "    <tr>\n",
       "      <th>5</th>\n",
       "      <td>10000</td>\n",
       "      <td>0.302071</td>\n",
       "    </tr>\n",
       "    <tr>\n",
       "      <th>4</th>\n",
       "      <td>3000</td>\n",
       "      <td>0.302071</td>\n",
       "    </tr>\n",
       "    <tr>\n",
       "      <th>3</th>\n",
       "      <td>1000</td>\n",
       "      <td>0.302071</td>\n",
       "    </tr>\n",
       "    <tr>\n",
       "      <th>2</th>\n",
       "      <td>300</td>\n",
       "      <td>0.302072</td>\n",
       "    </tr>\n",
       "    <tr>\n",
       "      <th>1</th>\n",
       "      <td>200</td>\n",
       "      <td>0.302073</td>\n",
       "    </tr>\n",
       "  </tbody>\n",
       "</table>\n",
       "</div>"
      ],
      "text/plain": [
       "       n   logloss\n",
       "5  10000  0.302071\n",
       "4   3000  0.302071\n",
       "3   1000  0.302071\n",
       "2    300  0.302072\n",
       "1    200  0.302073"
      ]
     },
     "execution_count": 249,
     "metadata": {},
     "output_type": "execute_result"
    }
   ],
   "source": [
    "#165\t0.310301 resting_blood_pressure\n",
    "#350\t0.310301 serum_cholesterol_mg_per_dl\n",
    "#4.99\t0.304107\n",
    "pd.DataFrame({'n':n,'logloss':logg}).sort_values(by='logloss',ascending=True).head()"
   ]
  },
  {
   "cell_type": "code",
   "execution_count": 403,
   "metadata": {},
   "outputs": [
    {
     "data": {
      "text/plain": [
       "5667500"
      ]
     },
     "execution_count": 403,
     "metadata": {},
     "output_type": "execute_result"
    }
   ],
   "source": [
    "2500*2267"
   ]
  },
  {
   "cell_type": "code",
   "execution_count": null,
   "metadata": {},
   "outputs": [],
   "source": []
  },
  {
   "cell_type": "code",
   "execution_count": null,
   "metadata": {},
   "outputs": [],
   "source": []
  },
  {
   "cell_type": "code",
   "execution_count": null,
   "metadata": {},
   "outputs": [],
   "source": []
  },
  {
   "cell_type": "code",
   "execution_count": null,
   "metadata": {},
   "outputs": [],
   "source": []
  },
  {
   "cell_type": "code",
   "execution_count": null,
   "metadata": {},
   "outputs": [],
   "source": []
  },
  {
   "cell_type": "code",
   "execution_count": 279,
   "metadata": {},
   "outputs": [],
   "source": [
    "## loop for all model\n",
    "\n",
    "# ce = [1,5,10,50,100,300,500,1000,3000,6000,10000]\n",
    "ce = np.arange(60,80,0.1)\n",
    "kern = ['linear', 'poly', 'rbf', 'sigmoid']\n",
    "cek, keren = [],[]\n",
    "datasc,datatr = [],[]\n",
    "for i in kern:\n",
    "    for j in ce:\n",
    "        cek.append(j)\n",
    "        keren.append(i)\n",
    "        model = SVC(random_state=123,C=j,kernel=i)\n",
    "        model.fit(x_train,y_train)\n",
    "        datatr.append(model.score( x_train , y_train ))\n",
    "        datasc.append(model.score( x_test , y_test ))\n",
    "#         print(i, model.score( x_train , y_train ) , model.score( x_test , y_test ))"
   ]
  },
  {
   "cell_type": "code",
   "execution_count": 281,
   "metadata": {},
   "outputs": [
    {
     "data": {
      "text/html": [
       "<div>\n",
       "<style scoped>\n",
       "    .dataframe tbody tr th:only-of-type {\n",
       "        vertical-align: middle;\n",
       "    }\n",
       "\n",
       "    .dataframe tbody tr th {\n",
       "        vertical-align: top;\n",
       "    }\n",
       "\n",
       "    .dataframe thead th {\n",
       "        text-align: right;\n",
       "    }\n",
       "</style>\n",
       "<table border=\"1\" class=\"dataframe\">\n",
       "  <thead>\n",
       "    <tr style=\"text-align: right;\">\n",
       "      <th></th>\n",
       "      <th>C</th>\n",
       "      <th>Kernel</th>\n",
       "      <th>score training</th>\n",
       "      <th>score test</th>\n",
       "      <th>gap</th>\n",
       "    </tr>\n",
       "  </thead>\n",
       "  <tbody>\n",
       "    <tr>\n",
       "      <th>691</th>\n",
       "      <td>69.1</td>\n",
       "      <td>sigmoid</td>\n",
       "      <td>0.801587</td>\n",
       "      <td>0.87037</td>\n",
       "      <td>0.068783</td>\n",
       "    </tr>\n",
       "    <tr>\n",
       "      <th>693</th>\n",
       "      <td>69.3</td>\n",
       "      <td>sigmoid</td>\n",
       "      <td>0.801587</td>\n",
       "      <td>0.87037</td>\n",
       "      <td>0.068783</td>\n",
       "    </tr>\n",
       "    <tr>\n",
       "      <th>750</th>\n",
       "      <td>75.0</td>\n",
       "      <td>sigmoid</td>\n",
       "      <td>0.801587</td>\n",
       "      <td>0.87037</td>\n",
       "      <td>0.068783</td>\n",
       "    </tr>\n",
       "    <tr>\n",
       "      <th>772</th>\n",
       "      <td>77.2</td>\n",
       "      <td>sigmoid</td>\n",
       "      <td>0.801587</td>\n",
       "      <td>0.87037</td>\n",
       "      <td>0.068783</td>\n",
       "    </tr>\n",
       "    <tr>\n",
       "      <th>778</th>\n",
       "      <td>77.8</td>\n",
       "      <td>sigmoid</td>\n",
       "      <td>0.801587</td>\n",
       "      <td>0.87037</td>\n",
       "      <td>0.068783</td>\n",
       "    </tr>\n",
       "  </tbody>\n",
       "</table>\n",
       "</div>"
      ],
      "text/plain": [
       "        C   Kernel  score training  score test       gap\n",
       "691  69.1  sigmoid        0.801587     0.87037  0.068783\n",
       "693  69.3  sigmoid        0.801587     0.87037  0.068783\n",
       "750  75.0  sigmoid        0.801587     0.87037  0.068783\n",
       "772  77.2  sigmoid        0.801587     0.87037  0.068783\n",
       "778  77.8  sigmoid        0.801587     0.87037  0.068783"
      ]
     },
     "execution_count": 281,
     "metadata": {},
     "output_type": "execute_result"
    }
   ],
   "source": [
    "## compare model each other\n",
    "# 6000\tsigmoid\t0.817460\t0.870370\t0.05291\n",
    "data1 = pd.DataFrame()\n",
    "data1['C'] = cek\n",
    "data1['Kernel'] = keren\n",
    "data1['score training'] = datatr\n",
    "data1['score test'] = datasc\n",
    "data1['gap'] = abs(data1['score training'] - data1['score test'])\n",
    "data1.sort_values(by=['score test','gap'],ascending=False).head()"
   ]
  },
  {
   "cell_type": "code",
   "execution_count": null,
   "metadata": {},
   "outputs": [],
   "source": []
  },
  {
   "cell_type": "code",
   "execution_count": null,
   "metadata": {},
   "outputs": [],
   "source": []
  },
  {
   "cell_type": "code",
   "execution_count": 322,
   "metadata": {},
   "outputs": [
    {
     "data": {
      "text/plain": [
       "0.16723411150927325"
      ]
     },
     "execution_count": 322,
     "metadata": {},
     "output_type": "execute_result"
    }
   ],
   "source": [
    "train = pd.read_csv('train_values.csv')\n",
    "test = pd.read_csv('test_values.csv')\n",
    "label = pd.read_csv('train_labels.csv')\n",
    "data = pd.concat([train,test],0)\n",
    "data['slope_of_peak_exercise_st_segment'] = data.apply(lambda row:str(row['slope_of_peak_exercise_st_segment']),axis=1)\n",
    "data['chest_pain_type'] = data.apply(lambda row:str(row['chest_pain_type']),axis=1)\n",
    "data['num_major_vessels'] = data.apply(lambda row:str(row['num_major_vessels']),axis=1)\n",
    "kategori_natural = data[['fasting_blood_sugar_gt_120_mg_per_dl','resting_ekg_results',\n",
    "'sex','exercise_induced_angina']]\n",
    "numerik = data.select_dtypes( exclude='object')\n",
    "numerik = numerik.drop(kategori_natural.columns,1)\n",
    "kategori = data.select_dtypes('object')\n",
    "from sklearn.preprocessing import StandardScaler\n",
    "\n",
    "def standardizer(data):\n",
    "    data_columns = data.columns  # agar nama column tidak hilang\n",
    "    data_index = data.index # agar index tidak hilang\n",
    "    normalize = StandardScaler()\n",
    "    normalize.fit(data)\n",
    "    \n",
    "    normalize_x = pd.DataFrame(normalize.transform(data))\n",
    "    normalize_x.columns = data_columns\n",
    "    normalize_x.index = data_index\n",
    "    return normalize_x, normalize\n",
    "\n",
    "x_norm, normalize = standardizer(numerik)\n",
    "num_id = kategori['patient_id']\n",
    "kategori = kategori.drop('patient_id',1)\n",
    "kategori_dum = pd.get_dummies(kategori)\n",
    "data_all = pd.concat([x_norm,kategori_dum,kategori_natural],1)\n",
    "data_train = data_all[:len(train)]\n",
    "data_test = data_all[len(train):]\n",
    "label_only = label['heart_disease_present']\n",
    "from sklearn.model_selection import train_test_split\n",
    "\n",
    "x_train, x_test, y_train, y_test = train_test_split(data_train,label_only,test_size=0.3,random_state=123)\n",
    "# for preprocessing the data\n",
    "from sklearn.preprocessing import StandardScaler\n",
    "\n",
    "# the model\n",
    "from sklearn.linear_model import LogisticRegression\n",
    "\n",
    "# for combining the preprocess with model training\n",
    "from sklearn.pipeline import Pipeline\n",
    "\n",
    "# for optimizing parameters of the pipeline\n",
    "from sklearn.model_selection import GridSearchCV\n",
    "\n",
    "from sklearn.metrics import log_loss\n",
    "pipe = Pipeline(steps=[('model', SVC(random_state=123,probability = True,))])\n",
    "param_grid = {'model__C': [69.1]}\n",
    "gs = GridSearchCV(estimator=pipe, \n",
    "                  param_grid=param_grid, \n",
    "                  cv=3)\n",
    "gs.fit(x_train, y_train)\n",
    "in_sample_preds = gs.predict_proba(x_train)\n",
    "log_loss(y_train, in_sample_preds)"
   ]
  },
  {
   "cell_type": "code",
   "execution_count": 323,
   "metadata": {},
   "outputs": [],
   "source": [
    "angka = gs.predict_proba(data_test)\n",
    "prediksi = pd.DataFrame()\n",
    "prediksi['patient_id'] = data['patient_id'][len(train):]\n",
    "prediksi['heart_disease_present'] = angka[:,1]\n",
    "prediksi = prediksi[['patient_id','heart_disease_present']]"
   ]
  },
  {
   "cell_type": "code",
   "execution_count": 324,
   "metadata": {},
   "outputs": [
    {
     "data": {
      "text/html": [
       "<div>\n",
       "<style scoped>\n",
       "    .dataframe tbody tr th:only-of-type {\n",
       "        vertical-align: middle;\n",
       "    }\n",
       "\n",
       "    .dataframe tbody tr th {\n",
       "        vertical-align: top;\n",
       "    }\n",
       "\n",
       "    .dataframe thead th {\n",
       "        text-align: right;\n",
       "    }\n",
       "</style>\n",
       "<table border=\"1\" class=\"dataframe\">\n",
       "  <thead>\n",
       "    <tr style=\"text-align: right;\">\n",
       "      <th></th>\n",
       "      <th>patient_id</th>\n",
       "      <th>heart_disease_present</th>\n",
       "    </tr>\n",
       "  </thead>\n",
       "  <tbody>\n",
       "    <tr>\n",
       "      <th>0</th>\n",
       "      <td>olalu7</td>\n",
       "      <td>0.923486</td>\n",
       "    </tr>\n",
       "    <tr>\n",
       "      <th>1</th>\n",
       "      <td>z9n6mx</td>\n",
       "      <td>0.087635</td>\n",
       "    </tr>\n",
       "    <tr>\n",
       "      <th>2</th>\n",
       "      <td>5k4413</td>\n",
       "      <td>0.938330</td>\n",
       "    </tr>\n",
       "    <tr>\n",
       "      <th>3</th>\n",
       "      <td>mrg7q5</td>\n",
       "      <td>0.204318</td>\n",
       "    </tr>\n",
       "    <tr>\n",
       "      <th>4</th>\n",
       "      <td>uki4do</td>\n",
       "      <td>0.776686</td>\n",
       "    </tr>\n",
       "  </tbody>\n",
       "</table>\n",
       "</div>"
      ],
      "text/plain": [
       "  patient_id  heart_disease_present\n",
       "0     olalu7               0.923486\n",
       "1     z9n6mx               0.087635\n",
       "2     5k4413               0.938330\n",
       "3     mrg7q5               0.204318\n",
       "4     uki4do               0.776686"
      ]
     },
     "execution_count": 324,
     "metadata": {},
     "output_type": "execute_result"
    }
   ],
   "source": [
    "prediksi.head()"
   ]
  },
  {
   "cell_type": "code",
   "execution_count": 287,
   "metadata": {},
   "outputs": [],
   "source": [
    "prediksi.to_csv('SVC 0167.csv')"
   ]
  },
  {
   "cell_type": "code",
   "execution_count": null,
   "metadata": {},
   "outputs": [],
   "source": []
  },
  {
   "cell_type": "code",
   "execution_count": 300,
   "metadata": {},
   "outputs": [],
   "source": [
    "## loop for all model\n",
    "\n",
    "n_estimators = np.arange(2,30,1)\n",
    "# ce = np.arange(2,30,1)\n",
    "max_depth = np.arange(5,200,5)\n",
    "cek, keren = [],[]\n",
    "datasc,datatr = [],[]\n",
    "for i in max_depth:\n",
    "    for j in n_estimators:\n",
    "        cek.append(j)\n",
    "        keren.append(i)\n",
    "        model = ExtraTreesClassifier(random_state=123,n_estimators=j,max_depth=i)\n",
    "        model.fit(x_train,y_train)\n",
    "        datatr.append(model.score( x_train , y_train ))\n",
    "        datasc.append(model.score( x_test , y_test ))\n",
    "#         print(i, model.score( x_train , y_train ) , model.score( x_test , y_test ))"
   ]
  },
  {
   "cell_type": "code",
   "execution_count": 303,
   "metadata": {},
   "outputs": [
    {
     "data": {
      "text/html": [
       "<div>\n",
       "<style scoped>\n",
       "    .dataframe tbody tr th:only-of-type {\n",
       "        vertical-align: middle;\n",
       "    }\n",
       "\n",
       "    .dataframe tbody tr th {\n",
       "        vertical-align: top;\n",
       "    }\n",
       "\n",
       "    .dataframe thead th {\n",
       "        text-align: right;\n",
       "    }\n",
       "</style>\n",
       "<table border=\"1\" class=\"dataframe\">\n",
       "  <thead>\n",
       "    <tr style=\"text-align: right;\">\n",
       "      <th></th>\n",
       "      <th>C</th>\n",
       "      <th>Kernel</th>\n",
       "      <th>score training</th>\n",
       "      <th>score test</th>\n",
       "      <th>gap</th>\n",
       "    </tr>\n",
       "  </thead>\n",
       "  <tbody>\n",
       "    <tr>\n",
       "      <th>92</th>\n",
       "      <td>10</td>\n",
       "      <td>20</td>\n",
       "      <td>1.0</td>\n",
       "      <td>0.851852</td>\n",
       "      <td>0.148148</td>\n",
       "    </tr>\n",
       "    <tr>\n",
       "      <th>93</th>\n",
       "      <td>11</td>\n",
       "      <td>20</td>\n",
       "      <td>1.0</td>\n",
       "      <td>0.851852</td>\n",
       "      <td>0.148148</td>\n",
       "    </tr>\n",
       "    <tr>\n",
       "      <th>120</th>\n",
       "      <td>10</td>\n",
       "      <td>25</td>\n",
       "      <td>1.0</td>\n",
       "      <td>0.851852</td>\n",
       "      <td>0.148148</td>\n",
       "    </tr>\n",
       "    <tr>\n",
       "      <th>121</th>\n",
       "      <td>11</td>\n",
       "      <td>25</td>\n",
       "      <td>1.0</td>\n",
       "      <td>0.851852</td>\n",
       "      <td>0.148148</td>\n",
       "    </tr>\n",
       "    <tr>\n",
       "      <th>148</th>\n",
       "      <td>10</td>\n",
       "      <td>30</td>\n",
       "      <td>1.0</td>\n",
       "      <td>0.851852</td>\n",
       "      <td>0.148148</td>\n",
       "    </tr>\n",
       "  </tbody>\n",
       "</table>\n",
       "</div>"
      ],
      "text/plain": [
       "      C  Kernel  score training  score test       gap\n",
       "92   10      20             1.0    0.851852  0.148148\n",
       "93   11      20             1.0    0.851852  0.148148\n",
       "120  10      25             1.0    0.851852  0.148148\n",
       "121  11      25             1.0    0.851852  0.148148\n",
       "148  10      30             1.0    0.851852  0.148148"
      ]
     },
     "execution_count": 303,
     "metadata": {},
     "output_type": "execute_result"
    }
   ],
   "source": [
    "# auto\t20\t1.0\t0.851852\t0.148148\n",
    "data1 = pd.DataFrame()\n",
    "data1['C'] = cek\n",
    "data1['Kernel'] = keren\n",
    "data1['score training'] = datatr\n",
    "data1['score test'] = datasc\n",
    "data1['gap'] = abs(data1['score training'] - data1['score test'])\n",
    "data1.sort_values(by=['score test','gap'],ascending=False).head()"
   ]
  },
  {
   "cell_type": "code",
   "execution_count": 317,
   "metadata": {
    "scrolled": false
   },
   "outputs": [
    {
     "data": {
      "text/plain": [
       "9.992007221626413e-16"
      ]
     },
     "execution_count": 317,
     "metadata": {},
     "output_type": "execute_result"
    }
   ],
   "source": [
    "train = pd.read_csv('train_values.csv')\n",
    "test = pd.read_csv('test_values.csv')\n",
    "label = pd.read_csv('train_labels.csv')\n",
    "data = pd.concat([train,test],0)\n",
    "data['slope_of_peak_exercise_st_segment'] = data.apply(lambda row:str(row['slope_of_peak_exercise_st_segment']),axis=1)\n",
    "data['chest_pain_type'] = data.apply(lambda row:str(row['chest_pain_type']),axis=1)\n",
    "data['num_major_vessels'] = data.apply(lambda row:str(row['num_major_vessels']),axis=1)\n",
    "kategori_natural = data[['fasting_blood_sugar_gt_120_mg_per_dl','resting_ekg_results',\n",
    "'sex','exercise_induced_angina']]\n",
    "numerik = data.select_dtypes( exclude='object')\n",
    "numerik = numerik.drop(kategori_natural.columns,1)\n",
    "kategori = data.select_dtypes('object')\n",
    "from sklearn.preprocessing import StandardScaler\n",
    "\n",
    "def standardizer(data):\n",
    "    data_columns = data.columns  # agar nama column tidak hilang\n",
    "    data_index = data.index # agar index tidak hilang\n",
    "    normalize = StandardScaler()\n",
    "    normalize.fit(data)\n",
    "    \n",
    "    normalize_x = pd.DataFrame(normalize.transform(data))\n",
    "    normalize_x.columns = data_columns\n",
    "    normalize_x.index = data_index\n",
    "    return normalize_x, normalize\n",
    "\n",
    "x_norm, normalize = standardizer(numerik)\n",
    "num_id = kategori['patient_id']\n",
    "kategori = kategori.drop('patient_id',1)\n",
    "kategori_dum = pd.get_dummies(kategori)\n",
    "data_all = pd.concat([x_norm,kategori_dum,kategori_natural],1)\n",
    "data_train = data_all[:len(train)]\n",
    "data_test = data_all[len(train):]\n",
    "label_only = label['heart_disease_present']\n",
    "from sklearn.model_selection import train_test_split\n",
    "\n",
    "x_train, x_test, y_train, y_test = train_test_split(data_train,label_only,test_size=0.3,random_state=123)\n",
    "# for preprocessing the data\n",
    "from sklearn.preprocessing import StandardScaler\n",
    "\n",
    "# the model\n",
    "from sklearn.linear_model import LogisticRegression\n",
    "\n",
    "# for combining the preprocess with model training\n",
    "from sklearn.pipeline import Pipeline\n",
    "\n",
    "# for optimizing parameters of the pipeline\n",
    "from sklearn.model_selection import GridSearchCV\n",
    "\n",
    "from sklearn.metrics import log_loss\n",
    "pipe = Pipeline(steps=[('model', ExtraTreesClassifier(random_state=123,max_depth=20))])\n",
    "param_grid = {'model__n_estimators': [10]}\n",
    "gs = GridSearchCV(estimator=pipe, \n",
    "                  param_grid=param_grid, \n",
    "                  cv=3)\n",
    "gs.fit(x_train, y_train)\n",
    "in_sample_preds = gs.predict_proba(x_train)\n",
    "log_loss(y_train, in_sample_preds)"
   ]
  },
  {
   "cell_type": "code",
   "execution_count": 319,
   "metadata": {},
   "outputs": [],
   "source": [
    "angka = (gs.predict_proba(data_test))\n",
    "prediksi = pd.DataFrame()\n",
    "prediksi['patient_id'] = data['patient_id'][len(train):]\n",
    "prediksi['heart_disease_present'] = angka[:,1]\n",
    "prediksi = prediksi[['patient_id','heart_disease_present']]"
   ]
  },
  {
   "cell_type": "code",
   "execution_count": 320,
   "metadata": {},
   "outputs": [
    {
     "data": {
      "text/html": [
       "<div>\n",
       "<style scoped>\n",
       "    .dataframe tbody tr th:only-of-type {\n",
       "        vertical-align: middle;\n",
       "    }\n",
       "\n",
       "    .dataframe tbody tr th {\n",
       "        vertical-align: top;\n",
       "    }\n",
       "\n",
       "    .dataframe thead th {\n",
       "        text-align: right;\n",
       "    }\n",
       "</style>\n",
       "<table border=\"1\" class=\"dataframe\">\n",
       "  <thead>\n",
       "    <tr style=\"text-align: right;\">\n",
       "      <th></th>\n",
       "      <th>C</th>\n",
       "      <th>Kernel</th>\n",
       "      <th>score training</th>\n",
       "      <th>score test</th>\n",
       "      <th>gap</th>\n",
       "    </tr>\n",
       "  </thead>\n",
       "  <tbody>\n",
       "    <tr>\n",
       "      <th>92</th>\n",
       "      <td>10</td>\n",
       "      <td>20</td>\n",
       "      <td>1.0</td>\n",
       "      <td>0.851852</td>\n",
       "      <td>0.148148</td>\n",
       "    </tr>\n",
       "    <tr>\n",
       "      <th>93</th>\n",
       "      <td>11</td>\n",
       "      <td>20</td>\n",
       "      <td>1.0</td>\n",
       "      <td>0.851852</td>\n",
       "      <td>0.148148</td>\n",
       "    </tr>\n",
       "    <tr>\n",
       "      <th>120</th>\n",
       "      <td>10</td>\n",
       "      <td>25</td>\n",
       "      <td>1.0</td>\n",
       "      <td>0.851852</td>\n",
       "      <td>0.148148</td>\n",
       "    </tr>\n",
       "    <tr>\n",
       "      <th>121</th>\n",
       "      <td>11</td>\n",
       "      <td>25</td>\n",
       "      <td>1.0</td>\n",
       "      <td>0.851852</td>\n",
       "      <td>0.148148</td>\n",
       "    </tr>\n",
       "    <tr>\n",
       "      <th>148</th>\n",
       "      <td>10</td>\n",
       "      <td>30</td>\n",
       "      <td>1.0</td>\n",
       "      <td>0.851852</td>\n",
       "      <td>0.148148</td>\n",
       "    </tr>\n",
       "  </tbody>\n",
       "</table>\n",
       "</div>"
      ],
      "text/plain": [
       "      C  Kernel  score training  score test       gap\n",
       "92   10      20             1.0    0.851852  0.148148\n",
       "93   11      20             1.0    0.851852  0.148148\n",
       "120  10      25             1.0    0.851852  0.148148\n",
       "121  11      25             1.0    0.851852  0.148148\n",
       "148  10      30             1.0    0.851852  0.148148"
      ]
     },
     "execution_count": 320,
     "metadata": {},
     "output_type": "execute_result"
    }
   ],
   "source": [
    "# auto\t20\t1.0\t0.851852\t0.148148\n",
    "data1 = pd.DataFrame()\n",
    "data1['C'] = cek\n",
    "data1['Kernel'] = keren\n",
    "data1['score training'] = datatr\n",
    "data1['score test'] = datasc\n",
    "data1['gap'] = abs(data1['score training'] - data1['score test'])\n",
    "data1.sort_values(by=['score test','gap'],ascending=False).head()"
   ]
  },
  {
   "cell_type": "code",
   "execution_count": 314,
   "metadata": {},
   "outputs": [],
   "source": [
    "prediksi.to_csv('extra tree 9,99e-16.csv')"
   ]
  },
  {
   "cell_type": "code",
   "execution_count": null,
   "metadata": {},
   "outputs": [],
   "source": []
  }
 ],
 "metadata": {
  "kernelspec": {
   "display_name": "Python 3",
   "language": "python",
   "name": "python3"
  },
  "language_info": {
   "codemirror_mode": {
    "name": "ipython",
    "version": 3
   },
   "file_extension": ".py",
   "mimetype": "text/x-python",
   "name": "python",
   "nbconvert_exporter": "python",
   "pygments_lexer": "ipython3",
   "version": "3.6.4"
  }
 },
 "nbformat": 4,
 "nbformat_minor": 2
}
